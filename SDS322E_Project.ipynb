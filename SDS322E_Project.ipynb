{
  "nbformat": 4,
  "nbformat_minor": 0,
  "metadata": {
    "colab": {
      "provenance": []
    },
    "kernelspec": {
      "name": "python3",
      "display_name": "Python 3"
    },
    "language_info": {
      "name": "python"
    }
  },
  "cells": [
    {
      "cell_type": "markdown",
      "source": [
        "# **Data Analysis of Basketball Player Performance Metrics**"
      ],
      "metadata": {
        "id": "lbc5r4Njywab"
      }
    },
    {
      "cell_type": "code",
      "execution_count": null,
      "metadata": {
        "id": "I34gIFVEbOCi"
      },
      "outputs": [],
      "source": [
        "# install dependencies\n",
        "import numpy as np\n",
        "import pandas as pd\n",
        "import seaborn as sns\n",
        "import matplotlib.pyplot as plt"
      ]
    },
    {
      "cell_type": "code",
      "source": [
        "# change directory to google drive\n",
        "#from google.colab import drive\n",
        "#drive.mount('/content/drive')"
      ],
      "metadata": {
        "id": "bUp9-RLgkN2F"
      },
      "execution_count": null,
      "outputs": []
    },
    {
      "cell_type": "code",
      "source": [
        "#import os\n",
        "#print(os.getcwd())"
      ],
      "metadata": {
        "id": "dLdWaNJgMO0z"
      },
      "execution_count": null,
      "outputs": []
    },
    {
      "cell_type": "code",
      "source": [
        "#print(os.listdir('/content/drive/MyDrive/'))"
      ],
      "metadata": {
        "id": "f8gHUUqEMbwU"
      },
      "execution_count": null,
      "outputs": []
    },
    {
      "cell_type": "code",
      "source": [
        "# initialize data\n",
        "data = pd.read_csv(\"BASKETBALL_DATA.csv\")\n",
        "\n",
        "data.head()"
      ],
      "metadata": {
        "id": "986YzbzAipA4",
        "colab": {
          "base_uri": "https://localhost:8080/",
          "height": 342
        },
        "outputId": "07d1c762-160a-4c35-b635-422f5fe3eb1b"
      },
      "execution_count": null,
      "outputs": [
        {
          "output_type": "execute_result",
          "data": {
            "text/plain": [
              "     month  day        player  year_born  years_played  games_played  \\\n",
              "0  January  1.0  Dan Anderson     1951.0           2.0          95.0   \n",
              "1  January  1.0  Dan Anderson     1951.0           2.0          95.0   \n",
              "2  January  1.0  Chris Anstey     1975.0           3.0         155.0   \n",
              "3  January  1.0    Kobe Brown     2000.0           2.0          59.0   \n",
              "4  January  1.0    Jim Browne     1930.0           2.0          35.0   \n",
              "\n",
              "   field_goals  field_goal_attempts  3point_field_goals  \\\n",
              "0        135.0                286.0                 NaN   \n",
              "1        135.0                286.0                 NaN   \n",
              "2        303.0                734.0                 4.0   \n",
              "3         58.0                134.0                18.0   \n",
              "4         18.0                 50.0                 NaN   \n",
              "\n",
              "   3point_field_goal_attempts  ...   college             team_recent  \\\n",
              "0                         NaN  ...       USC  Portland Trail Blazers   \n",
              "1                         NaN  ...       USC  Portland Trail Blazers   \n",
              "2                        29.0  ...       NaN        Dallas Mavericks   \n",
              "3                        63.0  ...  Missouri    Los Angeles Clippers   \n",
              "4                         NaN  ...       NaN          Denver Nuggets   \n",
              "\n",
              "   dunkattempts  championship   sex  status  height_default  height_cm  \\\n",
              "0           NaN            no  male   Alive             6-2      188.0   \n",
              "1           NaN            no  male   Alive             6-2      188.0   \n",
              "2          45.0            no  male   Alive             7-0      213.0   \n",
              "3          13.0            no  male   Alive             6-7      201.0   \n",
              "4           NaN            no  male    Dead            6-10      208.0   \n",
              "\n",
              "   weight_kg  weight_lb  \n",
              "0       83.0      185.0  \n",
              "1       83.0      185.0  \n",
              "2      112.0      249.0  \n",
              "3      113.0      250.0  \n",
              "4      106.0      235.0  \n",
              "\n",
              "[5 rows x 43 columns]"
            ],
            "text/html": [
              "\n",
              "  <div id=\"df-58d89b5d-abbe-451e-8e41-b339dad9bf7b\" class=\"colab-df-container\">\n",
              "    <div>\n",
              "<style scoped>\n",
              "    .dataframe tbody tr th:only-of-type {\n",
              "        vertical-align: middle;\n",
              "    }\n",
              "\n",
              "    .dataframe tbody tr th {\n",
              "        vertical-align: top;\n",
              "    }\n",
              "\n",
              "    .dataframe thead th {\n",
              "        text-align: right;\n",
              "    }\n",
              "</style>\n",
              "<table border=\"1\" class=\"dataframe\">\n",
              "  <thead>\n",
              "    <tr style=\"text-align: right;\">\n",
              "      <th></th>\n",
              "      <th>month</th>\n",
              "      <th>day</th>\n",
              "      <th>player</th>\n",
              "      <th>year_born</th>\n",
              "      <th>years_played</th>\n",
              "      <th>games_played</th>\n",
              "      <th>field_goals</th>\n",
              "      <th>field_goal_attempts</th>\n",
              "      <th>3point_field_goals</th>\n",
              "      <th>3point_field_goal_attempts</th>\n",
              "      <th>...</th>\n",
              "      <th>college</th>\n",
              "      <th>team_recent</th>\n",
              "      <th>dunkattempts</th>\n",
              "      <th>championship</th>\n",
              "      <th>sex</th>\n",
              "      <th>status</th>\n",
              "      <th>height_default</th>\n",
              "      <th>height_cm</th>\n",
              "      <th>weight_kg</th>\n",
              "      <th>weight_lb</th>\n",
              "    </tr>\n",
              "  </thead>\n",
              "  <tbody>\n",
              "    <tr>\n",
              "      <th>0</th>\n",
              "      <td>January</td>\n",
              "      <td>1.0</td>\n",
              "      <td>Dan Anderson</td>\n",
              "      <td>1951.0</td>\n",
              "      <td>2.0</td>\n",
              "      <td>95.0</td>\n",
              "      <td>135.0</td>\n",
              "      <td>286.0</td>\n",
              "      <td>NaN</td>\n",
              "      <td>NaN</td>\n",
              "      <td>...</td>\n",
              "      <td>USC</td>\n",
              "      <td>Portland Trail Blazers</td>\n",
              "      <td>NaN</td>\n",
              "      <td>no</td>\n",
              "      <td>male</td>\n",
              "      <td>Alive</td>\n",
              "      <td>6-2</td>\n",
              "      <td>188.0</td>\n",
              "      <td>83.0</td>\n",
              "      <td>185.0</td>\n",
              "    </tr>\n",
              "    <tr>\n",
              "      <th>1</th>\n",
              "      <td>January</td>\n",
              "      <td>1.0</td>\n",
              "      <td>Dan Anderson</td>\n",
              "      <td>1951.0</td>\n",
              "      <td>2.0</td>\n",
              "      <td>95.0</td>\n",
              "      <td>135.0</td>\n",
              "      <td>286.0</td>\n",
              "      <td>NaN</td>\n",
              "      <td>NaN</td>\n",
              "      <td>...</td>\n",
              "      <td>USC</td>\n",
              "      <td>Portland Trail Blazers</td>\n",
              "      <td>NaN</td>\n",
              "      <td>no</td>\n",
              "      <td>male</td>\n",
              "      <td>Alive</td>\n",
              "      <td>6-2</td>\n",
              "      <td>188.0</td>\n",
              "      <td>83.0</td>\n",
              "      <td>185.0</td>\n",
              "    </tr>\n",
              "    <tr>\n",
              "      <th>2</th>\n",
              "      <td>January</td>\n",
              "      <td>1.0</td>\n",
              "      <td>Chris Anstey</td>\n",
              "      <td>1975.0</td>\n",
              "      <td>3.0</td>\n",
              "      <td>155.0</td>\n",
              "      <td>303.0</td>\n",
              "      <td>734.0</td>\n",
              "      <td>4.0</td>\n",
              "      <td>29.0</td>\n",
              "      <td>...</td>\n",
              "      <td>NaN</td>\n",
              "      <td>Dallas Mavericks</td>\n",
              "      <td>45.0</td>\n",
              "      <td>no</td>\n",
              "      <td>male</td>\n",
              "      <td>Alive</td>\n",
              "      <td>7-0</td>\n",
              "      <td>213.0</td>\n",
              "      <td>112.0</td>\n",
              "      <td>249.0</td>\n",
              "    </tr>\n",
              "    <tr>\n",
              "      <th>3</th>\n",
              "      <td>January</td>\n",
              "      <td>1.0</td>\n",
              "      <td>Kobe Brown</td>\n",
              "      <td>2000.0</td>\n",
              "      <td>2.0</td>\n",
              "      <td>59.0</td>\n",
              "      <td>58.0</td>\n",
              "      <td>134.0</td>\n",
              "      <td>18.0</td>\n",
              "      <td>63.0</td>\n",
              "      <td>...</td>\n",
              "      <td>Missouri</td>\n",
              "      <td>Los Angeles Clippers</td>\n",
              "      <td>13.0</td>\n",
              "      <td>no</td>\n",
              "      <td>male</td>\n",
              "      <td>Alive</td>\n",
              "      <td>6-7</td>\n",
              "      <td>201.0</td>\n",
              "      <td>113.0</td>\n",
              "      <td>250.0</td>\n",
              "    </tr>\n",
              "    <tr>\n",
              "      <th>4</th>\n",
              "      <td>January</td>\n",
              "      <td>1.0</td>\n",
              "      <td>Jim Browne</td>\n",
              "      <td>1930.0</td>\n",
              "      <td>2.0</td>\n",
              "      <td>35.0</td>\n",
              "      <td>18.0</td>\n",
              "      <td>50.0</td>\n",
              "      <td>NaN</td>\n",
              "      <td>NaN</td>\n",
              "      <td>...</td>\n",
              "      <td>NaN</td>\n",
              "      <td>Denver Nuggets</td>\n",
              "      <td>NaN</td>\n",
              "      <td>no</td>\n",
              "      <td>male</td>\n",
              "      <td>Dead</td>\n",
              "      <td>6-10</td>\n",
              "      <td>208.0</td>\n",
              "      <td>106.0</td>\n",
              "      <td>235.0</td>\n",
              "    </tr>\n",
              "  </tbody>\n",
              "</table>\n",
              "<p>5 rows × 43 columns</p>\n",
              "</div>\n",
              "    <div class=\"colab-df-buttons\">\n",
              "\n",
              "  <div class=\"colab-df-container\">\n",
              "    <button class=\"colab-df-convert\" onclick=\"convertToInteractive('df-58d89b5d-abbe-451e-8e41-b339dad9bf7b')\"\n",
              "            title=\"Convert this dataframe to an interactive table.\"\n",
              "            style=\"display:none;\">\n",
              "\n",
              "  <svg xmlns=\"http://www.w3.org/2000/svg\" height=\"24px\" viewBox=\"0 -960 960 960\">\n",
              "    <path d=\"M120-120v-720h720v720H120Zm60-500h600v-160H180v160Zm220 220h160v-160H400v160Zm0 220h160v-160H400v160ZM180-400h160v-160H180v160Zm440 0h160v-160H620v160ZM180-180h160v-160H180v160Zm440 0h160v-160H620v160Z\"/>\n",
              "  </svg>\n",
              "    </button>\n",
              "\n",
              "  <style>\n",
              "    .colab-df-container {\n",
              "      display:flex;\n",
              "      gap: 12px;\n",
              "    }\n",
              "\n",
              "    .colab-df-convert {\n",
              "      background-color: #E8F0FE;\n",
              "      border: none;\n",
              "      border-radius: 50%;\n",
              "      cursor: pointer;\n",
              "      display: none;\n",
              "      fill: #1967D2;\n",
              "      height: 32px;\n",
              "      padding: 0 0 0 0;\n",
              "      width: 32px;\n",
              "    }\n",
              "\n",
              "    .colab-df-convert:hover {\n",
              "      background-color: #E2EBFA;\n",
              "      box-shadow: 0px 1px 2px rgba(60, 64, 67, 0.3), 0px 1px 3px 1px rgba(60, 64, 67, 0.15);\n",
              "      fill: #174EA6;\n",
              "    }\n",
              "\n",
              "    .colab-df-buttons div {\n",
              "      margin-bottom: 4px;\n",
              "    }\n",
              "\n",
              "    [theme=dark] .colab-df-convert {\n",
              "      background-color: #3B4455;\n",
              "      fill: #D2E3FC;\n",
              "    }\n",
              "\n",
              "    [theme=dark] .colab-df-convert:hover {\n",
              "      background-color: #434B5C;\n",
              "      box-shadow: 0px 1px 3px 1px rgba(0, 0, 0, 0.15);\n",
              "      filter: drop-shadow(0px 1px 2px rgba(0, 0, 0, 0.3));\n",
              "      fill: #FFFFFF;\n",
              "    }\n",
              "  </style>\n",
              "\n",
              "    <script>\n",
              "      const buttonEl =\n",
              "        document.querySelector('#df-58d89b5d-abbe-451e-8e41-b339dad9bf7b button.colab-df-convert');\n",
              "      buttonEl.style.display =\n",
              "        google.colab.kernel.accessAllowed ? 'block' : 'none';\n",
              "\n",
              "      async function convertToInteractive(key) {\n",
              "        const element = document.querySelector('#df-58d89b5d-abbe-451e-8e41-b339dad9bf7b');\n",
              "        const dataTable =\n",
              "          await google.colab.kernel.invokeFunction('convertToInteractive',\n",
              "                                                    [key], {});\n",
              "        if (!dataTable) return;\n",
              "\n",
              "        const docLinkHtml = 'Like what you see? Visit the ' +\n",
              "          '<a target=\"_blank\" href=https://colab.research.google.com/notebooks/data_table.ipynb>data table notebook</a>'\n",
              "          + ' to learn more about interactive tables.';\n",
              "        element.innerHTML = '';\n",
              "        dataTable['output_type'] = 'display_data';\n",
              "        await google.colab.output.renderOutput(dataTable, element);\n",
              "        const docLink = document.createElement('div');\n",
              "        docLink.innerHTML = docLinkHtml;\n",
              "        element.appendChild(docLink);\n",
              "      }\n",
              "    </script>\n",
              "  </div>\n",
              "\n",
              "\n",
              "<div id=\"df-963b9a0e-f697-448e-a06d-959cd4ab65fd\">\n",
              "  <button class=\"colab-df-quickchart\" onclick=\"quickchart('df-963b9a0e-f697-448e-a06d-959cd4ab65fd')\"\n",
              "            title=\"Suggest charts\"\n",
              "            style=\"display:none;\">\n",
              "\n",
              "<svg xmlns=\"http://www.w3.org/2000/svg\" height=\"24px\"viewBox=\"0 0 24 24\"\n",
              "     width=\"24px\">\n",
              "    <g>\n",
              "        <path d=\"M19 3H5c-1.1 0-2 .9-2 2v14c0 1.1.9 2 2 2h14c1.1 0 2-.9 2-2V5c0-1.1-.9-2-2-2zM9 17H7v-7h2v7zm4 0h-2V7h2v10zm4 0h-2v-4h2v4z\"/>\n",
              "    </g>\n",
              "</svg>\n",
              "  </button>\n",
              "\n",
              "<style>\n",
              "  .colab-df-quickchart {\n",
              "      --bg-color: #E8F0FE;\n",
              "      --fill-color: #1967D2;\n",
              "      --hover-bg-color: #E2EBFA;\n",
              "      --hover-fill-color: #174EA6;\n",
              "      --disabled-fill-color: #AAA;\n",
              "      --disabled-bg-color: #DDD;\n",
              "  }\n",
              "\n",
              "  [theme=dark] .colab-df-quickchart {\n",
              "      --bg-color: #3B4455;\n",
              "      --fill-color: #D2E3FC;\n",
              "      --hover-bg-color: #434B5C;\n",
              "      --hover-fill-color: #FFFFFF;\n",
              "      --disabled-bg-color: #3B4455;\n",
              "      --disabled-fill-color: #666;\n",
              "  }\n",
              "\n",
              "  .colab-df-quickchart {\n",
              "    background-color: var(--bg-color);\n",
              "    border: none;\n",
              "    border-radius: 50%;\n",
              "    cursor: pointer;\n",
              "    display: none;\n",
              "    fill: var(--fill-color);\n",
              "    height: 32px;\n",
              "    padding: 0;\n",
              "    width: 32px;\n",
              "  }\n",
              "\n",
              "  .colab-df-quickchart:hover {\n",
              "    background-color: var(--hover-bg-color);\n",
              "    box-shadow: 0 1px 2px rgba(60, 64, 67, 0.3), 0 1px 3px 1px rgba(60, 64, 67, 0.15);\n",
              "    fill: var(--button-hover-fill-color);\n",
              "  }\n",
              "\n",
              "  .colab-df-quickchart-complete:disabled,\n",
              "  .colab-df-quickchart-complete:disabled:hover {\n",
              "    background-color: var(--disabled-bg-color);\n",
              "    fill: var(--disabled-fill-color);\n",
              "    box-shadow: none;\n",
              "  }\n",
              "\n",
              "  .colab-df-spinner {\n",
              "    border: 2px solid var(--fill-color);\n",
              "    border-color: transparent;\n",
              "    border-bottom-color: var(--fill-color);\n",
              "    animation:\n",
              "      spin 1s steps(1) infinite;\n",
              "  }\n",
              "\n",
              "  @keyframes spin {\n",
              "    0% {\n",
              "      border-color: transparent;\n",
              "      border-bottom-color: var(--fill-color);\n",
              "      border-left-color: var(--fill-color);\n",
              "    }\n",
              "    20% {\n",
              "      border-color: transparent;\n",
              "      border-left-color: var(--fill-color);\n",
              "      border-top-color: var(--fill-color);\n",
              "    }\n",
              "    30% {\n",
              "      border-color: transparent;\n",
              "      border-left-color: var(--fill-color);\n",
              "      border-top-color: var(--fill-color);\n",
              "      border-right-color: var(--fill-color);\n",
              "    }\n",
              "    40% {\n",
              "      border-color: transparent;\n",
              "      border-right-color: var(--fill-color);\n",
              "      border-top-color: var(--fill-color);\n",
              "    }\n",
              "    60% {\n",
              "      border-color: transparent;\n",
              "      border-right-color: var(--fill-color);\n",
              "    }\n",
              "    80% {\n",
              "      border-color: transparent;\n",
              "      border-right-color: var(--fill-color);\n",
              "      border-bottom-color: var(--fill-color);\n",
              "    }\n",
              "    90% {\n",
              "      border-color: transparent;\n",
              "      border-bottom-color: var(--fill-color);\n",
              "    }\n",
              "  }\n",
              "</style>\n",
              "\n",
              "  <script>\n",
              "    async function quickchart(key) {\n",
              "      const quickchartButtonEl =\n",
              "        document.querySelector('#' + key + ' button');\n",
              "      quickchartButtonEl.disabled = true;  // To prevent multiple clicks.\n",
              "      quickchartButtonEl.classList.add('colab-df-spinner');\n",
              "      try {\n",
              "        const charts = await google.colab.kernel.invokeFunction(\n",
              "            'suggestCharts', [key], {});\n",
              "      } catch (error) {\n",
              "        console.error('Error during call to suggestCharts:', error);\n",
              "      }\n",
              "      quickchartButtonEl.classList.remove('colab-df-spinner');\n",
              "      quickchartButtonEl.classList.add('colab-df-quickchart-complete');\n",
              "    }\n",
              "    (() => {\n",
              "      let quickchartButtonEl =\n",
              "        document.querySelector('#df-963b9a0e-f697-448e-a06d-959cd4ab65fd button');\n",
              "      quickchartButtonEl.style.display =\n",
              "        google.colab.kernel.accessAllowed ? 'block' : 'none';\n",
              "    })();\n",
              "  </script>\n",
              "</div>\n",
              "\n",
              "    </div>\n",
              "  </div>\n"
            ],
            "application/vnd.google.colaboratory.intrinsic+json": {
              "type": "dataframe",
              "variable_name": "data"
            }
          },
          "metadata": {},
          "execution_count": 124
        }
      ]
    },
    {
      "cell_type": "code",
      "source": [
        "data.columns"
      ],
      "metadata": {
        "id": "RgY8NeAql0Nv",
        "colab": {
          "base_uri": "https://localhost:8080/"
        },
        "outputId": "967ad31d-abcd-4667-e490-26d78a3cefc0"
      },
      "execution_count": null,
      "outputs": [
        {
          "output_type": "execute_result",
          "data": {
            "text/plain": [
              "Index(['month', 'day', 'player', 'year_born', 'years_played', 'games_played',\n",
              "       'field_goals', 'field_goal_attempts', '3point_field_goals',\n",
              "       '3point_field_goal_attempts', 'free_throws', 'free_throw_attempts',\n",
              "       'offensive_rebounds', 'steals', 'blocks', 'turnovers', 'personal_fouls',\n",
              "       'win_shares', 'field_goal_percent', '3point_field_goal_percent',\n",
              "       'free_throw_percent', 'minutes_played_per_game', 'points_per_game',\n",
              "       'total_rebounds_per_game', 'assists_per_game', 'points',\n",
              "       'minutes_played', 'total_rebounds', 'assists', 'age', 'city', 'region',\n",
              "       'position', 'college', 'team_recent', 'dunkattempts', 'championship',\n",
              "       'sex', 'status', 'height_default', 'height_cm', 'weight_kg',\n",
              "       'weight_lb'],\n",
              "      dtype='object')"
            ]
          },
          "metadata": {},
          "execution_count": 8
        }
      ]
    },
    {
      "cell_type": "code",
      "source": [
        "data.shape;"
      ],
      "metadata": {
        "id": "q6pCWhlNmMi2"
      },
      "execution_count": null,
      "outputs": []
    },
    {
      "cell_type": "code",
      "source": [
        "data.describe();"
      ],
      "metadata": {
        "id": "cQPBNqqnmP3d"
      },
      "execution_count": null,
      "outputs": []
    },
    {
      "cell_type": "code",
      "source": [
        "# check for null and clean up\n",
        "data.isnull().sum();"
      ],
      "metadata": {
        "id": "yDf4DgXEmoVZ"
      },
      "execution_count": null,
      "outputs": []
    },
    {
      "cell_type": "markdown",
      "source": [
        "**Modeling**\n",
        "\n",
        "1. Choose a model for problem\n",
        "2. Execute and visualize the model"
      ],
      "metadata": {
        "id": "Pb3yvgMqpK2L"
      }
    },
    {
      "cell_type": "markdown",
      "source": [
        "Problem: Using Win Shares per 48 minutes as the player performance metric, what stats influence it the most, and can we use it to gather insight on a player's value in their respective league?"
      ],
      "metadata": {
        "id": "szCldVzLy0Uc"
      }
    },
    {
      "cell_type": "code",
      "source": [
        "# dependencies\n",
        "from sklearn.model_selection import train_test_split\n",
        "from sklearn import linear_model as lm"
      ],
      "metadata": {
        "id": "O7AJ3O_Wm_vd"
      },
      "execution_count": null,
      "outputs": []
    },
    {
      "cell_type": "code",
      "source": [
        "# add new column: WS48 (win shares per 48 minutes)\n",
        "#   calculated as (win-shares/minutes-played) * 48 - for NBA\n",
        "#                                             * 40 - for WNBA\n",
        "\n",
        "data['win_share_per_game'] = np.where(\n",
        "    data['sex'] == 'male',\n",
        "    data['win_shares'] / data['minutes_played'] * 48,  # NBA: Scale to 48-min game\n",
        "    data['win_shares'] / data['minutes_played'] * 40   # WNBA: Scale to 40-min game\n",
        ")"
      ],
      "metadata": {
        "id": "eecImT0b9HQL"
      },
      "execution_count": null,
      "outputs": []
    },
    {
      "cell_type": "code",
      "source": [
        "data.head()"
      ],
      "metadata": {
        "id": "6hFxHrrIAa1f",
        "colab": {
          "base_uri": "https://localhost:8080/",
          "height": 342
        },
        "outputId": "b5aa78f9-2c9d-4d46-af96-5be09a84aea2"
      },
      "execution_count": null,
      "outputs": [
        {
          "output_type": "execute_result",
          "data": {
            "text/plain": [
              "     month  day        player  year_born  years_played  games_played  \\\n",
              "0  January  1.0  Dan Anderson     1951.0           2.0          95.0   \n",
              "1  January  1.0  Dan Anderson     1951.0           2.0          95.0   \n",
              "2  January  1.0  Chris Anstey     1975.0           3.0         155.0   \n",
              "3  January  1.0    Kobe Brown     2000.0           2.0          59.0   \n",
              "4  January  1.0    Jim Browne     1930.0           2.0          35.0   \n",
              "\n",
              "   field_goals  field_goal_attempts  3point_field_goals  \\\n",
              "0        135.0                286.0                 NaN   \n",
              "1        135.0                286.0                 NaN   \n",
              "2        303.0                734.0                 4.0   \n",
              "3         58.0                134.0                18.0   \n",
              "4         18.0                 50.0                 NaN   \n",
              "\n",
              "   3point_field_goal_attempts  ...             team_recent  dunkattempts  \\\n",
              "0                         NaN  ...  Portland Trail Blazers           NaN   \n",
              "1                         NaN  ...  Portland Trail Blazers           NaN   \n",
              "2                        29.0  ...        Dallas Mavericks          45.0   \n",
              "3                        63.0  ...    Los Angeles Clippers          13.0   \n",
              "4                         NaN  ...          Denver Nuggets           NaN   \n",
              "\n",
              "   championship   sex  status  height_default  height_cm  weight_kg  \\\n",
              "0            no  male   Alive             6-2      188.0       83.0   \n",
              "1            no  male   Alive             6-2      188.0       83.0   \n",
              "2            no  male   Alive             7-0      213.0      112.0   \n",
              "3            no  male   Alive             6-7      201.0      113.0   \n",
              "4            no  male    Dead            6-10      208.0      106.0   \n",
              "\n",
              "   weight_lb  win_share_per_game  \n",
              "0      185.0            0.071978  \n",
              "1      185.0            0.071978  \n",
              "2      249.0            0.062309  \n",
              "3      250.0            0.066093  \n",
              "4      235.0                 NaN  \n",
              "\n",
              "[5 rows x 44 columns]"
            ],
            "text/html": [
              "\n",
              "  <div id=\"df-3eb016f3-3e8e-44ba-b020-4a4b0c9c865b\" class=\"colab-df-container\">\n",
              "    <div>\n",
              "<style scoped>\n",
              "    .dataframe tbody tr th:only-of-type {\n",
              "        vertical-align: middle;\n",
              "    }\n",
              "\n",
              "    .dataframe tbody tr th {\n",
              "        vertical-align: top;\n",
              "    }\n",
              "\n",
              "    .dataframe thead th {\n",
              "        text-align: right;\n",
              "    }\n",
              "</style>\n",
              "<table border=\"1\" class=\"dataframe\">\n",
              "  <thead>\n",
              "    <tr style=\"text-align: right;\">\n",
              "      <th></th>\n",
              "      <th>month</th>\n",
              "      <th>day</th>\n",
              "      <th>player</th>\n",
              "      <th>year_born</th>\n",
              "      <th>years_played</th>\n",
              "      <th>games_played</th>\n",
              "      <th>field_goals</th>\n",
              "      <th>field_goal_attempts</th>\n",
              "      <th>3point_field_goals</th>\n",
              "      <th>3point_field_goal_attempts</th>\n",
              "      <th>...</th>\n",
              "      <th>team_recent</th>\n",
              "      <th>dunkattempts</th>\n",
              "      <th>championship</th>\n",
              "      <th>sex</th>\n",
              "      <th>status</th>\n",
              "      <th>height_default</th>\n",
              "      <th>height_cm</th>\n",
              "      <th>weight_kg</th>\n",
              "      <th>weight_lb</th>\n",
              "      <th>win_share_per_game</th>\n",
              "    </tr>\n",
              "  </thead>\n",
              "  <tbody>\n",
              "    <tr>\n",
              "      <th>0</th>\n",
              "      <td>January</td>\n",
              "      <td>1.0</td>\n",
              "      <td>Dan Anderson</td>\n",
              "      <td>1951.0</td>\n",
              "      <td>2.0</td>\n",
              "      <td>95.0</td>\n",
              "      <td>135.0</td>\n",
              "      <td>286.0</td>\n",
              "      <td>NaN</td>\n",
              "      <td>NaN</td>\n",
              "      <td>...</td>\n",
              "      <td>Portland Trail Blazers</td>\n",
              "      <td>NaN</td>\n",
              "      <td>no</td>\n",
              "      <td>male</td>\n",
              "      <td>Alive</td>\n",
              "      <td>6-2</td>\n",
              "      <td>188.0</td>\n",
              "      <td>83.0</td>\n",
              "      <td>185.0</td>\n",
              "      <td>0.071978</td>\n",
              "    </tr>\n",
              "    <tr>\n",
              "      <th>1</th>\n",
              "      <td>January</td>\n",
              "      <td>1.0</td>\n",
              "      <td>Dan Anderson</td>\n",
              "      <td>1951.0</td>\n",
              "      <td>2.0</td>\n",
              "      <td>95.0</td>\n",
              "      <td>135.0</td>\n",
              "      <td>286.0</td>\n",
              "      <td>NaN</td>\n",
              "      <td>NaN</td>\n",
              "      <td>...</td>\n",
              "      <td>Portland Trail Blazers</td>\n",
              "      <td>NaN</td>\n",
              "      <td>no</td>\n",
              "      <td>male</td>\n",
              "      <td>Alive</td>\n",
              "      <td>6-2</td>\n",
              "      <td>188.0</td>\n",
              "      <td>83.0</td>\n",
              "      <td>185.0</td>\n",
              "      <td>0.071978</td>\n",
              "    </tr>\n",
              "    <tr>\n",
              "      <th>2</th>\n",
              "      <td>January</td>\n",
              "      <td>1.0</td>\n",
              "      <td>Chris Anstey</td>\n",
              "      <td>1975.0</td>\n",
              "      <td>3.0</td>\n",
              "      <td>155.0</td>\n",
              "      <td>303.0</td>\n",
              "      <td>734.0</td>\n",
              "      <td>4.0</td>\n",
              "      <td>29.0</td>\n",
              "      <td>...</td>\n",
              "      <td>Dallas Mavericks</td>\n",
              "      <td>45.0</td>\n",
              "      <td>no</td>\n",
              "      <td>male</td>\n",
              "      <td>Alive</td>\n",
              "      <td>7-0</td>\n",
              "      <td>213.0</td>\n",
              "      <td>112.0</td>\n",
              "      <td>249.0</td>\n",
              "      <td>0.062309</td>\n",
              "    </tr>\n",
              "    <tr>\n",
              "      <th>3</th>\n",
              "      <td>January</td>\n",
              "      <td>1.0</td>\n",
              "      <td>Kobe Brown</td>\n",
              "      <td>2000.0</td>\n",
              "      <td>2.0</td>\n",
              "      <td>59.0</td>\n",
              "      <td>58.0</td>\n",
              "      <td>134.0</td>\n",
              "      <td>18.0</td>\n",
              "      <td>63.0</td>\n",
              "      <td>...</td>\n",
              "      <td>Los Angeles Clippers</td>\n",
              "      <td>13.0</td>\n",
              "      <td>no</td>\n",
              "      <td>male</td>\n",
              "      <td>Alive</td>\n",
              "      <td>6-7</td>\n",
              "      <td>201.0</td>\n",
              "      <td>113.0</td>\n",
              "      <td>250.0</td>\n",
              "      <td>0.066093</td>\n",
              "    </tr>\n",
              "    <tr>\n",
              "      <th>4</th>\n",
              "      <td>January</td>\n",
              "      <td>1.0</td>\n",
              "      <td>Jim Browne</td>\n",
              "      <td>1930.0</td>\n",
              "      <td>2.0</td>\n",
              "      <td>35.0</td>\n",
              "      <td>18.0</td>\n",
              "      <td>50.0</td>\n",
              "      <td>NaN</td>\n",
              "      <td>NaN</td>\n",
              "      <td>...</td>\n",
              "      <td>Denver Nuggets</td>\n",
              "      <td>NaN</td>\n",
              "      <td>no</td>\n",
              "      <td>male</td>\n",
              "      <td>Dead</td>\n",
              "      <td>6-10</td>\n",
              "      <td>208.0</td>\n",
              "      <td>106.0</td>\n",
              "      <td>235.0</td>\n",
              "      <td>NaN</td>\n",
              "    </tr>\n",
              "  </tbody>\n",
              "</table>\n",
              "<p>5 rows × 44 columns</p>\n",
              "</div>\n",
              "    <div class=\"colab-df-buttons\">\n",
              "\n",
              "  <div class=\"colab-df-container\">\n",
              "    <button class=\"colab-df-convert\" onclick=\"convertToInteractive('df-3eb016f3-3e8e-44ba-b020-4a4b0c9c865b')\"\n",
              "            title=\"Convert this dataframe to an interactive table.\"\n",
              "            style=\"display:none;\">\n",
              "\n",
              "  <svg xmlns=\"http://www.w3.org/2000/svg\" height=\"24px\" viewBox=\"0 -960 960 960\">\n",
              "    <path d=\"M120-120v-720h720v720H120Zm60-500h600v-160H180v160Zm220 220h160v-160H400v160Zm0 220h160v-160H400v160ZM180-400h160v-160H180v160Zm440 0h160v-160H620v160ZM180-180h160v-160H180v160Zm440 0h160v-160H620v160Z\"/>\n",
              "  </svg>\n",
              "    </button>\n",
              "\n",
              "  <style>\n",
              "    .colab-df-container {\n",
              "      display:flex;\n",
              "      gap: 12px;\n",
              "    }\n",
              "\n",
              "    .colab-df-convert {\n",
              "      background-color: #E8F0FE;\n",
              "      border: none;\n",
              "      border-radius: 50%;\n",
              "      cursor: pointer;\n",
              "      display: none;\n",
              "      fill: #1967D2;\n",
              "      height: 32px;\n",
              "      padding: 0 0 0 0;\n",
              "      width: 32px;\n",
              "    }\n",
              "\n",
              "    .colab-df-convert:hover {\n",
              "      background-color: #E2EBFA;\n",
              "      box-shadow: 0px 1px 2px rgba(60, 64, 67, 0.3), 0px 1px 3px 1px rgba(60, 64, 67, 0.15);\n",
              "      fill: #174EA6;\n",
              "    }\n",
              "\n",
              "    .colab-df-buttons div {\n",
              "      margin-bottom: 4px;\n",
              "    }\n",
              "\n",
              "    [theme=dark] .colab-df-convert {\n",
              "      background-color: #3B4455;\n",
              "      fill: #D2E3FC;\n",
              "    }\n",
              "\n",
              "    [theme=dark] .colab-df-convert:hover {\n",
              "      background-color: #434B5C;\n",
              "      box-shadow: 0px 1px 3px 1px rgba(0, 0, 0, 0.15);\n",
              "      filter: drop-shadow(0px 1px 2px rgba(0, 0, 0, 0.3));\n",
              "      fill: #FFFFFF;\n",
              "    }\n",
              "  </style>\n",
              "\n",
              "    <script>\n",
              "      const buttonEl =\n",
              "        document.querySelector('#df-3eb016f3-3e8e-44ba-b020-4a4b0c9c865b button.colab-df-convert');\n",
              "      buttonEl.style.display =\n",
              "        google.colab.kernel.accessAllowed ? 'block' : 'none';\n",
              "\n",
              "      async function convertToInteractive(key) {\n",
              "        const element = document.querySelector('#df-3eb016f3-3e8e-44ba-b020-4a4b0c9c865b');\n",
              "        const dataTable =\n",
              "          await google.colab.kernel.invokeFunction('convertToInteractive',\n",
              "                                                    [key], {});\n",
              "        if (!dataTable) return;\n",
              "\n",
              "        const docLinkHtml = 'Like what you see? Visit the ' +\n",
              "          '<a target=\"_blank\" href=https://colab.research.google.com/notebooks/data_table.ipynb>data table notebook</a>'\n",
              "          + ' to learn more about interactive tables.';\n",
              "        element.innerHTML = '';\n",
              "        dataTable['output_type'] = 'display_data';\n",
              "        await google.colab.output.renderOutput(dataTable, element);\n",
              "        const docLink = document.createElement('div');\n",
              "        docLink.innerHTML = docLinkHtml;\n",
              "        element.appendChild(docLink);\n",
              "      }\n",
              "    </script>\n",
              "  </div>\n",
              "\n",
              "\n",
              "<div id=\"df-ecec836c-9bed-481a-a1a3-f7c0a51554f2\">\n",
              "  <button class=\"colab-df-quickchart\" onclick=\"quickchart('df-ecec836c-9bed-481a-a1a3-f7c0a51554f2')\"\n",
              "            title=\"Suggest charts\"\n",
              "            style=\"display:none;\">\n",
              "\n",
              "<svg xmlns=\"http://www.w3.org/2000/svg\" height=\"24px\"viewBox=\"0 0 24 24\"\n",
              "     width=\"24px\">\n",
              "    <g>\n",
              "        <path d=\"M19 3H5c-1.1 0-2 .9-2 2v14c0 1.1.9 2 2 2h14c1.1 0 2-.9 2-2V5c0-1.1-.9-2-2-2zM9 17H7v-7h2v7zm4 0h-2V7h2v10zm4 0h-2v-4h2v4z\"/>\n",
              "    </g>\n",
              "</svg>\n",
              "  </button>\n",
              "\n",
              "<style>\n",
              "  .colab-df-quickchart {\n",
              "      --bg-color: #E8F0FE;\n",
              "      --fill-color: #1967D2;\n",
              "      --hover-bg-color: #E2EBFA;\n",
              "      --hover-fill-color: #174EA6;\n",
              "      --disabled-fill-color: #AAA;\n",
              "      --disabled-bg-color: #DDD;\n",
              "  }\n",
              "\n",
              "  [theme=dark] .colab-df-quickchart {\n",
              "      --bg-color: #3B4455;\n",
              "      --fill-color: #D2E3FC;\n",
              "      --hover-bg-color: #434B5C;\n",
              "      --hover-fill-color: #FFFFFF;\n",
              "      --disabled-bg-color: #3B4455;\n",
              "      --disabled-fill-color: #666;\n",
              "  }\n",
              "\n",
              "  .colab-df-quickchart {\n",
              "    background-color: var(--bg-color);\n",
              "    border: none;\n",
              "    border-radius: 50%;\n",
              "    cursor: pointer;\n",
              "    display: none;\n",
              "    fill: var(--fill-color);\n",
              "    height: 32px;\n",
              "    padding: 0;\n",
              "    width: 32px;\n",
              "  }\n",
              "\n",
              "  .colab-df-quickchart:hover {\n",
              "    background-color: var(--hover-bg-color);\n",
              "    box-shadow: 0 1px 2px rgba(60, 64, 67, 0.3), 0 1px 3px 1px rgba(60, 64, 67, 0.15);\n",
              "    fill: var(--button-hover-fill-color);\n",
              "  }\n",
              "\n",
              "  .colab-df-quickchart-complete:disabled,\n",
              "  .colab-df-quickchart-complete:disabled:hover {\n",
              "    background-color: var(--disabled-bg-color);\n",
              "    fill: var(--disabled-fill-color);\n",
              "    box-shadow: none;\n",
              "  }\n",
              "\n",
              "  .colab-df-spinner {\n",
              "    border: 2px solid var(--fill-color);\n",
              "    border-color: transparent;\n",
              "    border-bottom-color: var(--fill-color);\n",
              "    animation:\n",
              "      spin 1s steps(1) infinite;\n",
              "  }\n",
              "\n",
              "  @keyframes spin {\n",
              "    0% {\n",
              "      border-color: transparent;\n",
              "      border-bottom-color: var(--fill-color);\n",
              "      border-left-color: var(--fill-color);\n",
              "    }\n",
              "    20% {\n",
              "      border-color: transparent;\n",
              "      border-left-color: var(--fill-color);\n",
              "      border-top-color: var(--fill-color);\n",
              "    }\n",
              "    30% {\n",
              "      border-color: transparent;\n",
              "      border-left-color: var(--fill-color);\n",
              "      border-top-color: var(--fill-color);\n",
              "      border-right-color: var(--fill-color);\n",
              "    }\n",
              "    40% {\n",
              "      border-color: transparent;\n",
              "      border-right-color: var(--fill-color);\n",
              "      border-top-color: var(--fill-color);\n",
              "    }\n",
              "    60% {\n",
              "      border-color: transparent;\n",
              "      border-right-color: var(--fill-color);\n",
              "    }\n",
              "    80% {\n",
              "      border-color: transparent;\n",
              "      border-right-color: var(--fill-color);\n",
              "      border-bottom-color: var(--fill-color);\n",
              "    }\n",
              "    90% {\n",
              "      border-color: transparent;\n",
              "      border-bottom-color: var(--fill-color);\n",
              "    }\n",
              "  }\n",
              "</style>\n",
              "\n",
              "  <script>\n",
              "    async function quickchart(key) {\n",
              "      const quickchartButtonEl =\n",
              "        document.querySelector('#' + key + ' button');\n",
              "      quickchartButtonEl.disabled = true;  // To prevent multiple clicks.\n",
              "      quickchartButtonEl.classList.add('colab-df-spinner');\n",
              "      try {\n",
              "        const charts = await google.colab.kernel.invokeFunction(\n",
              "            'suggestCharts', [key], {});\n",
              "      } catch (error) {\n",
              "        console.error('Error during call to suggestCharts:', error);\n",
              "      }\n",
              "      quickchartButtonEl.classList.remove('colab-df-spinner');\n",
              "      quickchartButtonEl.classList.add('colab-df-quickchart-complete');\n",
              "    }\n",
              "    (() => {\n",
              "      let quickchartButtonEl =\n",
              "        document.querySelector('#df-ecec836c-9bed-481a-a1a3-f7c0a51554f2 button');\n",
              "      quickchartButtonEl.style.display =\n",
              "        google.colab.kernel.accessAllowed ? 'block' : 'none';\n",
              "    })();\n",
              "  </script>\n",
              "</div>\n",
              "\n",
              "    </div>\n",
              "  </div>\n"
            ],
            "application/vnd.google.colaboratory.intrinsic+json": {
              "type": "dataframe",
              "variable_name": "data"
            }
          },
          "metadata": {},
          "execution_count": 127
        }
      ]
    },
    {
      "cell_type": "code",
      "source": [
        "# view specific player\n",
        "data[data['player'].str.contains('Katie Mattera')]\n",
        "\n",
        "#data[data['ws48'] < -0.1]['minutes_played'];"
      ],
      "metadata": {
        "id": "5u-YE1_fAcFM",
        "colab": {
          "base_uri": "https://localhost:8080/",
          "height": 147
        },
        "outputId": "12c89acd-30d7-4a75-8faf-e50ed2beba28"
      },
      "execution_count": null,
      "outputs": [
        {
          "output_type": "execute_result",
          "data": {
            "text/plain": [
              "         month   day         player  year_born  years_played  games_played  \\\n",
              "7176  November  17.0  Katie Mattera     1982.0           5.0         150.0   \n",
              "\n",
              "      field_goals  field_goal_attempts  3point_field_goals  \\\n",
              "7176        366.0                736.0                 0.0   \n",
              "\n",
              "      3point_field_goal_attempts  ...  team_recent  dunkattempts  \\\n",
              "7176                         0.0  ...  Chicago Sky           0.0   \n",
              "\n",
              "      championship     sex  status  height_default  height_cm  weight_kg  \\\n",
              "7176            no  female   Alive             6-8      203.0      108.0   \n",
              "\n",
              "      weight_lb  win_share_per_game  \n",
              "7176      240.0            0.088083  \n",
              "\n",
              "[1 rows x 44 columns]"
            ],
            "text/html": [
              "\n",
              "  <div id=\"df-c935a00d-83e2-4ac9-a773-ae6ce94f44d7\" class=\"colab-df-container\">\n",
              "    <div>\n",
              "<style scoped>\n",
              "    .dataframe tbody tr th:only-of-type {\n",
              "        vertical-align: middle;\n",
              "    }\n",
              "\n",
              "    .dataframe tbody tr th {\n",
              "        vertical-align: top;\n",
              "    }\n",
              "\n",
              "    .dataframe thead th {\n",
              "        text-align: right;\n",
              "    }\n",
              "</style>\n",
              "<table border=\"1\" class=\"dataframe\">\n",
              "  <thead>\n",
              "    <tr style=\"text-align: right;\">\n",
              "      <th></th>\n",
              "      <th>month</th>\n",
              "      <th>day</th>\n",
              "      <th>player</th>\n",
              "      <th>year_born</th>\n",
              "      <th>years_played</th>\n",
              "      <th>games_played</th>\n",
              "      <th>field_goals</th>\n",
              "      <th>field_goal_attempts</th>\n",
              "      <th>3point_field_goals</th>\n",
              "      <th>3point_field_goal_attempts</th>\n",
              "      <th>...</th>\n",
              "      <th>team_recent</th>\n",
              "      <th>dunkattempts</th>\n",
              "      <th>championship</th>\n",
              "      <th>sex</th>\n",
              "      <th>status</th>\n",
              "      <th>height_default</th>\n",
              "      <th>height_cm</th>\n",
              "      <th>weight_kg</th>\n",
              "      <th>weight_lb</th>\n",
              "      <th>win_share_per_game</th>\n",
              "    </tr>\n",
              "  </thead>\n",
              "  <tbody>\n",
              "    <tr>\n",
              "      <th>7176</th>\n",
              "      <td>November</td>\n",
              "      <td>17.0</td>\n",
              "      <td>Katie Mattera</td>\n",
              "      <td>1982.0</td>\n",
              "      <td>5.0</td>\n",
              "      <td>150.0</td>\n",
              "      <td>366.0</td>\n",
              "      <td>736.0</td>\n",
              "      <td>0.0</td>\n",
              "      <td>0.0</td>\n",
              "      <td>...</td>\n",
              "      <td>Chicago Sky</td>\n",
              "      <td>0.0</td>\n",
              "      <td>no</td>\n",
              "      <td>female</td>\n",
              "      <td>Alive</td>\n",
              "      <td>6-8</td>\n",
              "      <td>203.0</td>\n",
              "      <td>108.0</td>\n",
              "      <td>240.0</td>\n",
              "      <td>0.088083</td>\n",
              "    </tr>\n",
              "  </tbody>\n",
              "</table>\n",
              "<p>1 rows × 44 columns</p>\n",
              "</div>\n",
              "    <div class=\"colab-df-buttons\">\n",
              "\n",
              "  <div class=\"colab-df-container\">\n",
              "    <button class=\"colab-df-convert\" onclick=\"convertToInteractive('df-c935a00d-83e2-4ac9-a773-ae6ce94f44d7')\"\n",
              "            title=\"Convert this dataframe to an interactive table.\"\n",
              "            style=\"display:none;\">\n",
              "\n",
              "  <svg xmlns=\"http://www.w3.org/2000/svg\" height=\"24px\" viewBox=\"0 -960 960 960\">\n",
              "    <path d=\"M120-120v-720h720v720H120Zm60-500h600v-160H180v160Zm220 220h160v-160H400v160Zm0 220h160v-160H400v160ZM180-400h160v-160H180v160Zm440 0h160v-160H620v160ZM180-180h160v-160H180v160Zm440 0h160v-160H620v160Z\"/>\n",
              "  </svg>\n",
              "    </button>\n",
              "\n",
              "  <style>\n",
              "    .colab-df-container {\n",
              "      display:flex;\n",
              "      gap: 12px;\n",
              "    }\n",
              "\n",
              "    .colab-df-convert {\n",
              "      background-color: #E8F0FE;\n",
              "      border: none;\n",
              "      border-radius: 50%;\n",
              "      cursor: pointer;\n",
              "      display: none;\n",
              "      fill: #1967D2;\n",
              "      height: 32px;\n",
              "      padding: 0 0 0 0;\n",
              "      width: 32px;\n",
              "    }\n",
              "\n",
              "    .colab-df-convert:hover {\n",
              "      background-color: #E2EBFA;\n",
              "      box-shadow: 0px 1px 2px rgba(60, 64, 67, 0.3), 0px 1px 3px 1px rgba(60, 64, 67, 0.15);\n",
              "      fill: #174EA6;\n",
              "    }\n",
              "\n",
              "    .colab-df-buttons div {\n",
              "      margin-bottom: 4px;\n",
              "    }\n",
              "\n",
              "    [theme=dark] .colab-df-convert {\n",
              "      background-color: #3B4455;\n",
              "      fill: #D2E3FC;\n",
              "    }\n",
              "\n",
              "    [theme=dark] .colab-df-convert:hover {\n",
              "      background-color: #434B5C;\n",
              "      box-shadow: 0px 1px 3px 1px rgba(0, 0, 0, 0.15);\n",
              "      filter: drop-shadow(0px 1px 2px rgba(0, 0, 0, 0.3));\n",
              "      fill: #FFFFFF;\n",
              "    }\n",
              "  </style>\n",
              "\n",
              "    <script>\n",
              "      const buttonEl =\n",
              "        document.querySelector('#df-c935a00d-83e2-4ac9-a773-ae6ce94f44d7 button.colab-df-convert');\n",
              "      buttonEl.style.display =\n",
              "        google.colab.kernel.accessAllowed ? 'block' : 'none';\n",
              "\n",
              "      async function convertToInteractive(key) {\n",
              "        const element = document.querySelector('#df-c935a00d-83e2-4ac9-a773-ae6ce94f44d7');\n",
              "        const dataTable =\n",
              "          await google.colab.kernel.invokeFunction('convertToInteractive',\n",
              "                                                    [key], {});\n",
              "        if (!dataTable) return;\n",
              "\n",
              "        const docLinkHtml = 'Like what you see? Visit the ' +\n",
              "          '<a target=\"_blank\" href=https://colab.research.google.com/notebooks/data_table.ipynb>data table notebook</a>'\n",
              "          + ' to learn more about interactive tables.';\n",
              "        element.innerHTML = '';\n",
              "        dataTable['output_type'] = 'display_data';\n",
              "        await google.colab.output.renderOutput(dataTable, element);\n",
              "        const docLink = document.createElement('div');\n",
              "        docLink.innerHTML = docLinkHtml;\n",
              "        element.appendChild(docLink);\n",
              "      }\n",
              "    </script>\n",
              "  </div>\n",
              "\n",
              "\n",
              "    </div>\n",
              "  </div>\n"
            ],
            "application/vnd.google.colaboratory.intrinsic+json": {
              "type": "dataframe"
            }
          },
          "metadata": {},
          "execution_count": 144
        }
      ]
    },
    {
      "cell_type": "code",
      "source": [
        "data.columns"
      ],
      "metadata": {
        "id": "31tncEk1cHwX",
        "colab": {
          "base_uri": "https://localhost:8080/"
        },
        "outputId": "1728d00a-2c00-47cb-efa3-0d71612eb8ad"
      },
      "execution_count": null,
      "outputs": [
        {
          "output_type": "execute_result",
          "data": {
            "text/plain": [
              "Index(['month', 'day', 'player', 'year_born', 'years_played', 'games_played',\n",
              "       'field_goals', 'field_goal_attempts', '3point_field_goals',\n",
              "       '3point_field_goal_attempts', 'free_throws', 'free_throw_attempts',\n",
              "       'offensive_rebounds', 'steals', 'blocks', 'turnovers', 'personal_fouls',\n",
              "       'win_shares', 'field_goal_percent', '3point_field_goal_percent',\n",
              "       'free_throw_percent', 'minutes_played_per_game', 'points_per_game',\n",
              "       'total_rebounds_per_game', 'assists_per_game', 'points',\n",
              "       'minutes_played', 'total_rebounds', 'assists', 'age', 'city', 'region',\n",
              "       'position', 'college', 'team_recent', 'dunkattempts', 'championship',\n",
              "       'sex', 'status', 'height_default', 'height_cm', 'weight_kg',\n",
              "       'weight_lb', 'ws48'],\n",
              "      dtype='object')"
            ]
          },
          "metadata": {},
          "execution_count": 16
        }
      ]
    },
    {
      "cell_type": "code",
      "source": [
        "data1 = data"
      ],
      "metadata": {
        "id": "bQ0cbfxx6J1B"
      },
      "execution_count": null,
      "outputs": []
    },
    {
      "cell_type": "markdown",
      "source": [
        "**Data Cleaning and Variable Creation**"
      ],
      "metadata": {
        "id": "uAAZaHAezODb"
      }
    },
    {
      "cell_type": "code",
      "source": [
        "# remove outliers\n",
        "#data1 = data1[data1['ws48'] < 4]\n",
        "#data1 = data1[data1['ws48'] < 0.3]\n",
        "#data1 = data1[data1['ws48'] > -2]\n",
        "#data1 = data1[data1['ws48'] > -0.3]\n",
        "\n",
        "data1 = data1[data1['minutes_played'] >= 1000]"
      ],
      "metadata": {
        "id": "Gg1TiXAinC9K"
      },
      "execution_count": null,
      "outputs": []
    },
    {
      "cell_type": "code",
      "source": [
        "# assign appropriate variables as ratios\n",
        "data1['steals_pg'] = data1['steals'] / data1['games_played']\n",
        "data1['blocks_pg'] = data1['blocks'] / data1['games_played']\n",
        "data1['turnovers_pg'] = data1['turnovers'] / data1['games_played']\n",
        "data1['personal_fouls_pg'] = data1['personal_fouls'] / data1['games_played']\n",
        "# drop na values\n",
        "data1 = data1.dropna(subset=['steals_pg', 'blocks_pg', 'turnovers_pg', 'personal_fouls_pg', 'win_share_per_game']);"
      ],
      "metadata": {
        "id": "V2nXR0xX5nBr"
      },
      "execution_count": null,
      "outputs": []
    },
    {
      "cell_type": "code",
      "source": [
        "x_var = 'turnovers_pg'"
      ],
      "metadata": {
        "id": "diAtGpbzb7_r"
      },
      "execution_count": null,
      "outputs": []
    },
    {
      "cell_type": "markdown",
      "source": [
        "*Test plot to view shape of our data*"
      ],
      "metadata": {
        "id": "E2c70cl6zafm"
      }
    },
    {
      "cell_type": "code",
      "source": [
        "# clean data for this problem\n",
        "\n",
        "data1 = data1.dropna(subset=['win_share_per_game', x_var])\n",
        "# assign vars\n",
        "X = np.array(data1[x_var])\n",
        "Y = np.array(data1['win_share_per_game'])"
      ],
      "metadata": {
        "id": "MiOWFUBIE7W9"
      },
      "execution_count": null,
      "outputs": []
    },
    {
      "cell_type": "code",
      "source": [
        "# plot\n",
        "plt.scatter(X,Y);"
      ],
      "metadata": {
        "id": "rk7LdygCJZHP",
        "colab": {
          "base_uri": "https://localhost:8080/",
          "height": 431
        },
        "outputId": "cf82f0b9-d188-48f9-a4dc-81f570b12936"
      },
      "execution_count": null,
      "outputs": [
        {
          "output_type": "display_data",
          "data": {
            "text/plain": [
              "<Figure size 640x480 with 1 Axes>"
            ],
            "image/png": "[encoded data removed]"
          },
          "metadata": {}
        }
      ]
    },
    {
      "cell_type": "code",
      "source": [
        "data1[data1['win_share_per_game'] > 0.3].T"
      ],
      "metadata": {
        "colab": {
          "base_uri": "https://localhost:8080/",
          "height": 1000
        },
        "id": "7W3C7dVvHCiG",
        "outputId": "be2cd52a-1332-4fc9-c6f1-2938c8cc4a40"
      },
      "execution_count": null,
      "outputs": [
        {
          "output_type": "execute_result",
          "data": {
            "text/plain": [
              "                                      2352\n",
              "month                                April\n",
              "day                                   14.0\n",
              "player                      Cynthia Cooper\n",
              "year_born                           1963.0\n",
              "years_played                           5.0\n",
              "games_played                         124.0\n",
              "field_goals                          802.0\n",
              "field_goal_attempts                 1749.0\n",
              "3point_field_goals                   239.0\n",
              "3point_field_goal_attempts           634.0\n",
              "free_throws                          758.0\n",
              "free_throw_attempts                  870.0\n",
              "offensive_rebounds                    94.0\n",
              "steals                               193.0\n",
              "blocks                                35.0\n",
              "turnovers                            421.0\n",
              "personal_fouls                       264.0\n",
              "win_shares                            36.6\n",
              "field_goal_percent                   0.459\n",
              "3point_field_goal_percent            0.377\n",
              "free_throw_percent                   0.871\n",
              "minutes_played_per_game               35.2\n",
              "points_per_game                       21.0\n",
              "total_rebounds_per_game                3.3\n",
              "assists_per_game                       4.9\n",
              "points                              2601.0\n",
              "minutes_played                      4363.0\n",
              "total_rebounds                       403.0\n",
              "assists                              602.0\n",
              "age                                   61.0\n",
              "city                               Chicago\n",
              "region                            Illinois\n",
              "position                             Guard\n",
              "college                                USC\n",
              "team_recent                 Houston Comets\n",
              "dunkattempts                           0.0\n",
              "championship                           yes\n",
              "sex                                 female\n",
              "status                               Alive\n",
              "height_default                        5-10\n",
              "height_cm                            178.0\n",
              "weight_kg                             68.0\n",
              "weight_lb                            150.0\n",
              "win_share_per_game                0.335549\n",
              "steals_pg                         1.556452\n",
              "blocks_pg                         0.282258\n",
              "turnovers_pg                      3.395161\n",
              "personal_fouls_pg                 2.129032"
            ],
            "text/html": [
              "\n",
              "  <div id=\"df-11f6ee9b-0ed3-484b-9d3e-15401ad46c34\" class=\"colab-df-container\">\n",
              "    <div>\n",
              "<style scoped>\n",
              "    .dataframe tbody tr th:only-of-type {\n",
              "        vertical-align: middle;\n",
              "    }\n",
              "\n",
              "    .dataframe tbody tr th {\n",
              "        vertical-align: top;\n",
              "    }\n",
              "\n",
              "    .dataframe thead th {\n",
              "        text-align: right;\n",
              "    }\n",
              "</style>\n",
              "<table border=\"1\" class=\"dataframe\">\n",
              "  <thead>\n",
              "    <tr style=\"text-align: right;\">\n",
              "      <th></th>\n",
              "      <th>2352</th>\n",
              "    </tr>\n",
              "  </thead>\n",
              "  <tbody>\n",
              "    <tr>\n",
              "      <th>month</th>\n",
              "      <td>April</td>\n",
              "    </tr>\n",
              "    <tr>\n",
              "      <th>day</th>\n",
              "      <td>14.0</td>\n",
              "    </tr>\n",
              "    <tr>\n",
              "      <th>player</th>\n",
              "      <td>Cynthia Cooper</td>\n",
              "    </tr>\n",
              "    <tr>\n",
              "      <th>year_born</th>\n",
              "      <td>1963.0</td>\n",
              "    </tr>\n",
              "    <tr>\n",
              "      <th>years_played</th>\n",
              "      <td>5.0</td>\n",
              "    </tr>\n",
              "    <tr>\n",
              "      <th>games_played</th>\n",
              "      <td>124.0</td>\n",
              "    </tr>\n",
              "    <tr>\n",
              "      <th>field_goals</th>\n",
              "      <td>802.0</td>\n",
              "    </tr>\n",
              "    <tr>\n",
              "      <th>field_goal_attempts</th>\n",
              "      <td>1749.0</td>\n",
              "    </tr>\n",
              "    <tr>\n",
              "      <th>3point_field_goals</th>\n",
              "      <td>239.0</td>\n",
              "    </tr>\n",
              "    <tr>\n",
              "      <th>3point_field_goal_attempts</th>\n",
              "      <td>634.0</td>\n",
              "    </tr>\n",
              "    <tr>\n",
              "      <th>free_throws</th>\n",
              "      <td>758.0</td>\n",
              "    </tr>\n",
              "    <tr>\n",
              "      <th>free_throw_attempts</th>\n",
              "      <td>870.0</td>\n",
              "    </tr>\n",
              "    <tr>\n",
              "      <th>offensive_rebounds</th>\n",
              "      <td>94.0</td>\n",
              "    </tr>\n",
              "    <tr>\n",
              "      <th>steals</th>\n",
              "      <td>193.0</td>\n",
              "    </tr>\n",
              "    <tr>\n",
              "      <th>blocks</th>\n",
              "      <td>35.0</td>\n",
              "    </tr>\n",
              "    <tr>\n",
              "      <th>turnovers</th>\n",
              "      <td>421.0</td>\n",
              "    </tr>\n",
              "    <tr>\n",
              "      <th>personal_fouls</th>\n",
              "      <td>264.0</td>\n",
              "    </tr>\n",
              "    <tr>\n",
              "      <th>win_shares</th>\n",
              "      <td>36.6</td>\n",
              "    </tr>\n",
              "    <tr>\n",
              "      <th>field_goal_percent</th>\n",
              "      <td>0.459</td>\n",
              "    </tr>\n",
              "    <tr>\n",
              "      <th>3point_field_goal_percent</th>\n",
              "      <td>0.377</td>\n",
              "    </tr>\n",
              "    <tr>\n",
              "      <th>free_throw_percent</th>\n",
              "      <td>0.871</td>\n",
              "    </tr>\n",
              "    <tr>\n",
              "      <th>minutes_played_per_game</th>\n",
              "      <td>35.2</td>\n",
              "    </tr>\n",
              "    <tr>\n",
              "      <th>points_per_game</th>\n",
              "      <td>21.0</td>\n",
              "    </tr>\n",
              "    <tr>\n",
              "      <th>total_rebounds_per_game</th>\n",
              "      <td>3.3</td>\n",
              "    </tr>\n",
              "    <tr>\n",
              "      <th>assists_per_game</th>\n",
              "      <td>4.9</td>\n",
              "    </tr>\n",
              "    <tr>\n",
              "      <th>points</th>\n",
              "      <td>2601.0</td>\n",
              "    </tr>\n",
              "    <tr>\n",
              "      <th>minutes_played</th>\n",
              "      <td>4363.0</td>\n",
              "    </tr>\n",
              "    <tr>\n",
              "      <th>total_rebounds</th>\n",
              "      <td>403.0</td>\n",
              "    </tr>\n",
              "    <tr>\n",
              "      <th>assists</th>\n",
              "      <td>602.0</td>\n",
              "    </tr>\n",
              "    <tr>\n",
              "      <th>age</th>\n",
              "      <td>61.0</td>\n",
              "    </tr>\n",
              "    <tr>\n",
              "      <th>city</th>\n",
              "      <td>Chicago</td>\n",
              "    </tr>\n",
              "    <tr>\n",
              "      <th>region</th>\n",
              "      <td>Illinois</td>\n",
              "    </tr>\n",
              "    <tr>\n",
              "      <th>position</th>\n",
              "      <td>Guard</td>\n",
              "    </tr>\n",
              "    <tr>\n",
              "      <th>college</th>\n",
              "      <td>USC</td>\n",
              "    </tr>\n",
              "    <tr>\n",
              "      <th>team_recent</th>\n",
              "      <td>Houston Comets</td>\n",
              "    </tr>\n",
              "    <tr>\n",
              "      <th>dunkattempts</th>\n",
              "      <td>0.0</td>\n",
              "    </tr>\n",
              "    <tr>\n",
              "      <th>championship</th>\n",
              "      <td>yes</td>\n",
              "    </tr>\n",
              "    <tr>\n",
              "      <th>sex</th>\n",
              "      <td>female</td>\n",
              "    </tr>\n",
              "    <tr>\n",
              "      <th>status</th>\n",
              "      <td>Alive</td>\n",
              "    </tr>\n",
              "    <tr>\n",
              "      <th>height_default</th>\n",
              "      <td>5-10</td>\n",
              "    </tr>\n",
              "    <tr>\n",
              "      <th>height_cm</th>\n",
              "      <td>178.0</td>\n",
              "    </tr>\n",
              "    <tr>\n",
              "      <th>weight_kg</th>\n",
              "      <td>68.0</td>\n",
              "    </tr>\n",
              "    <tr>\n",
              "      <th>weight_lb</th>\n",
              "      <td>150.0</td>\n",
              "    </tr>\n",
              "    <tr>\n",
              "      <th>win_share_per_game</th>\n",
              "      <td>0.335549</td>\n",
              "    </tr>\n",
              "    <tr>\n",
              "      <th>steals_pg</th>\n",
              "      <td>1.556452</td>\n",
              "    </tr>\n",
              "    <tr>\n",
              "      <th>blocks_pg</th>\n",
              "      <td>0.282258</td>\n",
              "    </tr>\n",
              "    <tr>\n",
              "      <th>turnovers_pg</th>\n",
              "      <td>3.395161</td>\n",
              "    </tr>\n",
              "    <tr>\n",
              "      <th>personal_fouls_pg</th>\n",
              "      <td>2.129032</td>\n",
              "    </tr>\n",
              "  </tbody>\n",
              "</table>\n",
              "</div>\n",
              "    <div class=\"colab-df-buttons\">\n",
              "\n",
              "  <div class=\"colab-df-container\">\n",
              "    <button class=\"colab-df-convert\" onclick=\"convertToInteractive('df-11f6ee9b-0ed3-484b-9d3e-15401ad46c34')\"\n",
              "            title=\"Convert this dataframe to an interactive table.\"\n",
              "            style=\"display:none;\">\n",
              "\n",
              "  <svg xmlns=\"http://www.w3.org/2000/svg\" height=\"24px\" viewBox=\"0 -960 960 960\">\n",
              "    <path d=\"M120-120v-720h720v720H120Zm60-500h600v-160H180v160Zm220 220h160v-160H400v160Zm0 220h160v-160H400v160ZM180-400h160v-160H180v160Zm440 0h160v-160H620v160ZM180-180h160v-160H180v160Zm440 0h160v-160H620v160Z\"/>\n",
              "  </svg>\n",
              "    </button>\n",
              "\n",
              "  <style>\n",
              "    .colab-df-container {\n",
              "      display:flex;\n",
              "      gap: 12px;\n",
              "    }\n",
              "\n",
              "    .colab-df-convert {\n",
              "      background-color: #E8F0FE;\n",
              "      border: none;\n",
              "      border-radius: 50%;\n",
              "      cursor: pointer;\n",
              "      display: none;\n",
              "      fill: #1967D2;\n",
              "      height: 32px;\n",
              "      padding: 0 0 0 0;\n",
              "      width: 32px;\n",
              "    }\n",
              "\n",
              "    .colab-df-convert:hover {\n",
              "      background-color: #E2EBFA;\n",
              "      box-shadow: 0px 1px 2px rgba(60, 64, 67, 0.3), 0px 1px 3px 1px rgba(60, 64, 67, 0.15);\n",
              "      fill: #174EA6;\n",
              "    }\n",
              "\n",
              "    .colab-df-buttons div {\n",
              "      margin-bottom: 4px;\n",
              "    }\n",
              "\n",
              "    [theme=dark] .colab-df-convert {\n",
              "      background-color: #3B4455;\n",
              "      fill: #D2E3FC;\n",
              "    }\n",
              "\n",
              "    [theme=dark] .colab-df-convert:hover {\n",
              "      background-color: #434B5C;\n",
              "      box-shadow: 0px 1px 3px 1px rgba(0, 0, 0, 0.15);\n",
              "      filter: drop-shadow(0px 1px 2px rgba(0, 0, 0, 0.3));\n",
              "      fill: #FFFFFF;\n",
              "    }\n",
              "  </style>\n",
              "\n",
              "    <script>\n",
              "      const buttonEl =\n",
              "        document.querySelector('#df-11f6ee9b-0ed3-484b-9d3e-15401ad46c34 button.colab-df-convert');\n",
              "      buttonEl.style.display =\n",
              "        google.colab.kernel.accessAllowed ? 'block' : 'none';\n",
              "\n",
              "      async function convertToInteractive(key) {\n",
              "        const element = document.querySelector('#df-11f6ee9b-0ed3-484b-9d3e-15401ad46c34');\n",
              "        const dataTable =\n",
              "          await google.colab.kernel.invokeFunction('convertToInteractive',\n",
              "                                                    [key], {});\n",
              "        if (!dataTable) return;\n",
              "\n",
              "        const docLinkHtml = 'Like what you see? Visit the ' +\n",
              "          '<a target=\"_blank\" href=https://colab.research.google.com/notebooks/data_table.ipynb>data table notebook</a>'\n",
              "          + ' to learn more about interactive tables.';\n",
              "        element.innerHTML = '';\n",
              "        dataTable['output_type'] = 'display_data';\n",
              "        await google.colab.output.renderOutput(dataTable, element);\n",
              "        const docLink = document.createElement('div');\n",
              "        docLink.innerHTML = docLinkHtml;\n",
              "        element.appendChild(docLink);\n",
              "      }\n",
              "    </script>\n",
              "  </div>\n",
              "\n",
              "\n",
              "<div id=\"df-4e61a79b-3fd0-44bf-81b1-b533ed1628f2\">\n",
              "  <button class=\"colab-df-quickchart\" onclick=\"quickchart('df-4e61a79b-3fd0-44bf-81b1-b533ed1628f2')\"\n",
              "            title=\"Suggest charts\"\n",
              "            style=\"display:none;\">\n",
              "\n",
              "<svg xmlns=\"http://www.w3.org/2000/svg\" height=\"24px\"viewBox=\"0 0 24 24\"\n",
              "     width=\"24px\">\n",
              "    <g>\n",
              "        <path d=\"M19 3H5c-1.1 0-2 .9-2 2v14c0 1.1.9 2 2 2h14c1.1 0 2-.9 2-2V5c0-1.1-.9-2-2-2zM9 17H7v-7h2v7zm4 0h-2V7h2v10zm4 0h-2v-4h2v4z\"/>\n",
              "    </g>\n",
              "</svg>\n",
              "  </button>\n",
              "\n",
              "<style>\n",
              "  .colab-df-quickchart {\n",
              "      --bg-color: #E8F0FE;\n",
              "      --fill-color: #1967D2;\n",
              "      --hover-bg-color: #E2EBFA;\n",
              "      --hover-fill-color: #174EA6;\n",
              "      --disabled-fill-color: #AAA;\n",
              "      --disabled-bg-color: #DDD;\n",
              "  }\n",
              "\n",
              "  [theme=dark] .colab-df-quickchart {\n",
              "      --bg-color: #3B4455;\n",
              "      --fill-color: #D2E3FC;\n",
              "      --hover-bg-color: #434B5C;\n",
              "      --hover-fill-color: #FFFFFF;\n",
              "      --disabled-bg-color: #3B4455;\n",
              "      --disabled-fill-color: #666;\n",
              "  }\n",
              "\n",
              "  .colab-df-quickchart {\n",
              "    background-color: var(--bg-color);\n",
              "    border: none;\n",
              "    border-radius: 50%;\n",
              "    cursor: pointer;\n",
              "    display: none;\n",
              "    fill: var(--fill-color);\n",
              "    height: 32px;\n",
              "    padding: 0;\n",
              "    width: 32px;\n",
              "  }\n",
              "\n",
              "  .colab-df-quickchart:hover {\n",
              "    background-color: var(--hover-bg-color);\n",
              "    box-shadow: 0 1px 2px rgba(60, 64, 67, 0.3), 0 1px 3px 1px rgba(60, 64, 67, 0.15);\n",
              "    fill: var(--button-hover-fill-color);\n",
              "  }\n",
              "\n",
              "  .colab-df-quickchart-complete:disabled,\n",
              "  .colab-df-quickchart-complete:disabled:hover {\n",
              "    background-color: var(--disabled-bg-color);\n",
              "    fill: var(--disabled-fill-color);\n",
              "    box-shadow: none;\n",
              "  }\n",
              "\n",
              "  .colab-df-spinner {\n",
              "    border: 2px solid var(--fill-color);\n",
              "    border-color: transparent;\n",
              "    border-bottom-color: var(--fill-color);\n",
              "    animation:\n",
              "      spin 1s steps(1) infinite;\n",
              "  }\n",
              "\n",
              "  @keyframes spin {\n",
              "    0% {\n",
              "      border-color: transparent;\n",
              "      border-bottom-color: var(--fill-color);\n",
              "      border-left-color: var(--fill-color);\n",
              "    }\n",
              "    20% {\n",
              "      border-color: transparent;\n",
              "      border-left-color: var(--fill-color);\n",
              "      border-top-color: var(--fill-color);\n",
              "    }\n",
              "    30% {\n",
              "      border-color: transparent;\n",
              "      border-left-color: var(--fill-color);\n",
              "      border-top-color: var(--fill-color);\n",
              "      border-right-color: var(--fill-color);\n",
              "    }\n",
              "    40% {\n",
              "      border-color: transparent;\n",
              "      border-right-color: var(--fill-color);\n",
              "      border-top-color: var(--fill-color);\n",
              "    }\n",
              "    60% {\n",
              "      border-color: transparent;\n",
              "      border-right-color: var(--fill-color);\n",
              "    }\n",
              "    80% {\n",
              "      border-color: transparent;\n",
              "      border-right-color: var(--fill-color);\n",
              "      border-bottom-color: var(--fill-color);\n",
              "    }\n",
              "    90% {\n",
              "      border-color: transparent;\n",
              "      border-bottom-color: var(--fill-color);\n",
              "    }\n",
              "  }\n",
              "</style>\n",
              "\n",
              "  <script>\n",
              "    async function quickchart(key) {\n",
              "      const quickchartButtonEl =\n",
              "        document.querySelector('#' + key + ' button');\n",
              "      quickchartButtonEl.disabled = true;  // To prevent multiple clicks.\n",
              "      quickchartButtonEl.classList.add('colab-df-spinner');\n",
              "      try {\n",
              "        const charts = await google.colab.kernel.invokeFunction(\n",
              "            'suggestCharts', [key], {});\n",
              "      } catch (error) {\n",
              "        console.error('Error during call to suggestCharts:', error);\n",
              "      }\n",
              "      quickchartButtonEl.classList.remove('colab-df-spinner');\n",
              "      quickchartButtonEl.classList.add('colab-df-quickchart-complete');\n",
              "    }\n",
              "    (() => {\n",
              "      let quickchartButtonEl =\n",
              "        document.querySelector('#df-4e61a79b-3fd0-44bf-81b1-b533ed1628f2 button');\n",
              "      quickchartButtonEl.style.display =\n",
              "        google.colab.kernel.accessAllowed ? 'block' : 'none';\n",
              "    })();\n",
              "  </script>\n",
              "</div>\n",
              "\n",
              "    </div>\n",
              "  </div>\n"
            ],
            "application/vnd.google.colaboratory.intrinsic+json": {
              "type": "dataframe",
              "summary": "{\n  \"name\": \"data1[data1['win_share_per_game'] > 0\",\n  \"rows\": 48,\n  \"fields\": [\n    {\n      \"column\": 2352,\n      \"properties\": {\n        \"dtype\": \"string\",\n        \"num_unique_values\": 48,\n        \"samples\": [\n          403.0,\n          178.0,\n          4363.0\n        ],\n        \"semantic_type\": \"\",\n        \"description\": \"\"\n      }\n    }\n  ]\n}"
            }
          },
          "metadata": {},
          "execution_count": 142
        }
      ]
    },
    {
      "cell_type": "code",
      "source": [
        "data1.columns"
      ],
      "metadata": {
        "id": "087O0J3laBv9",
        "colab": {
          "base_uri": "https://localhost:8080/"
        },
        "outputId": "1c5271e8-99ed-425f-9678-3aa7e1e161e5"
      },
      "execution_count": null,
      "outputs": [
        {
          "output_type": "execute_result",
          "data": {
            "text/plain": [
              "Index(['month', 'day', 'player', 'year_born', 'years_played', 'games_played',\n",
              "       'field_goals', 'field_goal_attempts', '3point_field_goals',\n",
              "       '3point_field_goal_attempts', 'free_throws', 'free_throw_attempts',\n",
              "       'offensive_rebounds', 'steals', 'blocks', 'turnovers', 'personal_fouls',\n",
              "       'win_shares', 'field_goal_percent', '3point_field_goal_percent',\n",
              "       'free_throw_percent', 'minutes_played_per_game', 'points_per_game',\n",
              "       'total_rebounds_per_game', 'assists_per_game', 'points',\n",
              "       'minutes_played', 'total_rebounds', 'assists', 'age', 'city', 'region',\n",
              "       'position', 'college', 'team_recent', 'dunkattempts', 'championship',\n",
              "       'sex', 'status', 'height_default', 'height_cm', 'weight_kg',\n",
              "       'weight_lb', 'ws48', 'steals_pg', 'blocks_pg', 'turnovers_pg',\n",
              "       'personal_fouls_pg'],\n",
              "      dtype='object')"
            ]
          },
          "metadata": {},
          "execution_count": 89
        }
      ]
    },
    {
      "cell_type": "code",
      "source": [
        "# test plot, see different variable relationships\n",
        "X = np.array(data1[x_var])\n",
        "Y = np.array(data1['ws48'])\n",
        "\n",
        "plt.scatter(X,Y)\n",
        "plt.xlabel('X', size=15)\n",
        "plt.ylabel('Win Shares per 48 Minutes', size=15);"
      ],
      "metadata": {
        "id": "d_S8aV2pnsn0",
        "colab": {
          "base_uri": "https://localhost:8080/",
          "height": 455
        },
        "outputId": "e772d4c0-4510-49e7-eb34-adc8bfa78897"
      },
      "execution_count": null,
      "outputs": [
        {
          "output_type": "display_data",
          "data": {
            "text/plain": [
              "<Figure size 640x480 with 1 Axes>"
            ],
            "image/png": "[encoded data removed]"
          },
          "metadata": {}
        }
      ]
    },
    {
      "cell_type": "markdown",
      "source": [
        "**Create and Visualize Models**"
      ],
      "metadata": {
        "id": "6totchPsq0sl"
      }
    },
    {
      "cell_type": "markdown",
      "source": [
        "Linear"
      ],
      "metadata": {
        "id": "xdJj1ftM3T8m"
      }
    },
    {
      "cell_type": "code",
      "source": [
        "# specify linear model\n",
        "lin = lm.LinearRegression()\n",
        "\n",
        "# fit linear model to data\n",
        "lin.fit(X[:, np.newaxis], Y)\n",
        "\n",
        "# print the fitted model\n",
        "lin.coef_, lin.intercept_"
      ],
      "metadata": {
        "id": "hTmX8WDen_sM",
        "colab": {
          "base_uri": "https://localhost:8080/"
        },
        "outputId": "4b5fad4c-f05a-4838-e603-325fcc7a20c7"
      },
      "execution_count": null,
      "outputs": [
        {
          "output_type": "execute_result",
          "data": {
            "text/plain": [
              "(array([0.0199636]), np.float64(0.05733016223583312))"
            ]
          },
          "metadata": {},
          "execution_count": 156
        }
      ]
    },
    {
      "cell_type": "code",
      "source": [
        "xlin = np.linspace(min(X), max(X), 100)\n",
        "ylin = lin.intercept_ + lin.coef_ * xlin\n",
        "\n",
        "plt.scatter(X,Y)\n",
        "plt.plot(xlin, ylin, color='black')\n",
        "plt.xlabel('X', size=15)\n",
        "plt.ylabel('Win Shares per 48 Minutes', size=15);"
      ],
      "metadata": {
        "id": "py1Ht4hTqtUU",
        "colab": {
          "base_uri": "https://localhost:8080/",
          "height": 455
        },
        "outputId": "9989e96f-e03e-4bba-a41a-9a60fc4bbda6"
      },
      "execution_count": null,
      "outputs": [
        {
          "output_type": "display_data",
          "data": {
            "text/plain": [
              "<Figure size 640x480 with 1 Axes>"
            ],
            "image/png": "[encoded data removed]"
          },
          "metadata": {}
        }
      ]
    },
    {
      "cell_type": "markdown",
      "source": [
        "Ridge"
      ],
      "metadata": {
        "id": "4MJHOOHfzytD"
      }
    },
    {
      "cell_type": "code",
      "source": [
        "from sklearn.preprocessing import StandardScaler"
      ],
      "metadata": {
        "id": "mPGYo07jvrXv"
      },
      "execution_count": null,
      "outputs": []
    },
    {
      "cell_type": "code",
      "source": [
        "scaler = StandardScaler()\n",
        "X_scaled = scaler.fit_transform(X[:, np.newaxis])\n",
        "\n",
        "alphas = [ x for x in range(1,101)]\n",
        "\n",
        "ridge_cv = lm.RidgeCV(alphas=alphas, store_cv_values=True)\n",
        "ridge_cv.fit(X_scaled, Y)\n",
        "\n",
        "print(\"Alpha: \", ridge_cv.alpha_)\n",
        "print(\"Coef: \", ridge_cv.coef_)\n",
        "print(\"Intercept: \", ridge_cv.intercept_)"
      ],
      "metadata": {
        "id": "JNlw9C_hxChi",
        "colab": {
          "base_uri": "https://localhost:8080/"
        },
        "outputId": "542ca0d6-86d4-4c07-ed79-25684c4abb0f"
      },
      "execution_count": null,
      "outputs": [
        {
          "output_type": "stream",
          "name": "stdout",
          "text": [
            "Alpha:  12\n",
            "Coef:  [0.01510815]\n",
            "Intercept:  0.08011832551821015\n"
          ]
        },
        {
          "output_type": "stream",
          "name": "stderr",
          "text": [
            "/usr/local/lib/python3.11/dist-packages/sklearn/linear_model/_ridge.py:2385: FutureWarning: 'store_cv_values' is deprecated in version 1.5 and will be removed in 1.7. Use 'store_cv_results' instead.\n",
            "  warnings.warn(\n"
          ]
        }
      ]
    },
    {
      "cell_type": "code",
      "source": [
        "xlin = np.linspace(min(X_scaled), max(X_scaled), 100)\n",
        "ylin = ridge_cv.intercept_ + ridge_cv.coef_ * xlin\n",
        "\n",
        "plt.scatter(X_scaled,Y)\n",
        "plt.plot(xlin, ylin, color='black')\n",
        "plt.xlabel('Field Goals', size=15)\n",
        "plt.ylabel('Win Shares per 48 Minutes', size=15);"
      ],
      "metadata": {
        "id": "fZ2-5nDx0YYe",
        "colab": {
          "base_uri": "https://localhost:8080/",
          "height": 455
        },
        "outputId": "8a4b2159-f38b-4ae6-955c-1e8174d97d9f"
      },
      "execution_count": null,
      "outputs": [
        {
          "output_type": "display_data",
          "data": {
            "text/plain": [
              "<Figure size 640x480 with 1 Axes>"
            ],
            "image/png": "[encoded data removed]"
          },
          "metadata": {}
        }
      ]
    },
    {
      "cell_type": "markdown",
      "source": [
        "LassoCV"
      ],
      "metadata": {
        "id": "hc7ra4sh3b4c"
      }
    },
    {
      "cell_type": "code",
      "source": [
        "# set up model\n",
        "scaler = StandardScaler()\n",
        "X_scaled = scaler.fit_transform(X[:, np.newaxis])\n",
        "\n",
        "lasso_cv = lm.LassoCV(alphas=None, cv=5, max_iter=10000, random_state=42)\n",
        "\n",
        "lasso_cv.fit(X_scaled, Y)"
      ],
      "metadata": {
        "id": "h-y4A6fZ3ct5",
        "colab": {
          "base_uri": "https://localhost:8080/",
          "height": 80
        },
        "outputId": "32d7d8a3-ac15-4494-a971-36b84878e6d5"
      },
      "execution_count": null,
      "outputs": [
        {
          "output_type": "execute_result",
          "data": {
            "text/plain": [
              "LassoCV(cv=5, max_iter=10000, random_state=42)"
            ],
            "text/html": [
              "<style>#sk-container-id-1 {\n",
              "  /* Definition of color scheme common for light and dark mode */\n",
              "  --sklearn-color-text: #000;\n",
              "  --sklearn-color-text-muted: #666;\n",
              "  --sklearn-color-line: gray;\n",
              "  /* Definition of color scheme for unfitted estimators */\n",
              "  --sklearn-color-unfitted-level-0: #fff5e6;\n",
              "  --sklearn-color-unfitted-level-1: #f6e4d2;\n",
              "  --sklearn-color-unfitted-level-2: #ffe0b3;\n",
              "  --sklearn-color-unfitted-level-3: chocolate;\n",
              "  /* Definition of color scheme for fitted estimators */\n",
              "  --sklearn-color-fitted-level-0: #f0f8ff;\n",
              "  --sklearn-color-fitted-level-1: #d4ebff;\n",
              "  --sklearn-color-fitted-level-2: #b3dbfd;\n",
              "  --sklearn-color-fitted-level-3: cornflowerblue;\n",
              "\n",
              "  /* Specific color for light theme */\n",
              "  --sklearn-color-text-on-default-background: var(--sg-text-color, var(--theme-code-foreground, var(--jp-content-font-color1, black)));\n",
              "  --sklearn-color-background: var(--sg-background-color, var(--theme-background, var(--jp-layout-color0, white)));\n",
              "  --sklearn-color-border-box: var(--sg-text-color, var(--theme-code-foreground, var(--jp-content-font-color1, black)));\n",
              "  --sklearn-color-icon: #696969;\n",
              "\n",
              "  @media (prefers-color-scheme: dark) {\n",
              "    /* Redefinition of color scheme for dark theme */\n",
              "    --sklearn-color-text-on-default-background: var(--sg-text-color, var(--theme-code-foreground, var(--jp-content-font-color1, white)));\n",
              "    --sklearn-color-background: var(--sg-background-color, var(--theme-background, var(--jp-layout-color0, #111)));\n",
              "    --sklearn-color-border-box: var(--sg-text-color, var(--theme-code-foreground, var(--jp-content-font-color1, white)));\n",
              "    --sklearn-color-icon: #878787;\n",
              "  }\n",
              "}\n",
              "\n",
              "#sk-container-id-1 {\n",
              "  color: var(--sklearn-color-text);\n",
              "}\n",
              "\n",
              "#sk-container-id-1 pre {\n",
              "  padding: 0;\n",
              "}\n",
              "\n",
              "#sk-container-id-1 input.sk-hidden--visually {\n",
              "  border: 0;\n",
              "  clip: rect(1px 1px 1px 1px);\n",
              "  clip: rect(1px, 1px, 1px, 1px);\n",
              "  height: 1px;\n",
              "  margin: -1px;\n",
              "  overflow: hidden;\n",
              "  padding: 0;\n",
              "  position: absolute;\n",
              "  width: 1px;\n",
              "}\n",
              "\n",
              "#sk-container-id-1 div.sk-dashed-wrapped {\n",
              "  border: 1px dashed var(--sklearn-color-line);\n",
              "  margin: 0 0.4em 0.5em 0.4em;\n",
              "  box-sizing: border-box;\n",
              "  padding-bottom: 0.4em;\n",
              "  background-color: var(--sklearn-color-background);\n",
              "}\n",
              "\n",
              "#sk-container-id-1 div.sk-container {\n",
              "  /* jupyter's `normalize.less` sets `[hidden] { display: none; }`\n",
              "     but bootstrap.min.css set `[hidden] { display: none !important; }`\n",
              "     so we also need the `!important` here to be able to override the\n",
              "     default hidden behavior on the sphinx rendered scikit-learn.org.\n",
              "     See: https://github.com/scikit-learn/scikit-learn/issues/21755 */\n",
              "  display: inline-block !important;\n",
              "  position: relative;\n",
              "}\n",
              "\n",
              "#sk-container-id-1 div.sk-text-repr-fallback {\n",
              "  display: none;\n",
              "}\n",
              "\n",
              "div.sk-parallel-item,\n",
              "div.sk-serial,\n",
              "div.sk-item {\n",
              "  /* draw centered vertical line to link estimators */\n",
              "  background-image: linear-gradient(var(--sklearn-color-text-on-default-background), var(--sklearn-color-text-on-default-background));\n",
              "  background-size: 2px 100%;\n",
              "  background-repeat: no-repeat;\n",
              "  background-position: center center;\n",
              "}\n",
              "\n",
              "/* Parallel-specific style estimator block */\n",
              "\n",
              "#sk-container-id-1 div.sk-parallel-item::after {\n",
              "  content: \"\";\n",
              "  width: 100%;\n",
              "  border-bottom: 2px solid var(--sklearn-color-text-on-default-background);\n",
              "  flex-grow: 1;\n",
              "}\n",
              "\n",
              "#sk-container-id-1 div.sk-parallel {\n",
              "  display: flex;\n",
              "  align-items: stretch;\n",
              "  justify-content: center;\n",
              "  background-color: var(--sklearn-color-background);\n",
              "  position: relative;\n",
              "}\n",
              "\n",
              "#sk-container-id-1 div.sk-parallel-item {\n",
              "  display: flex;\n",
              "  flex-direction: column;\n",
              "}\n",
              "\n",
              "#sk-container-id-1 div.sk-parallel-item:first-child::after {\n",
              "  align-self: flex-end;\n",
              "  width: 50%;\n",
              "}\n",
              "\n",
              "#sk-container-id-1 div.sk-parallel-item:last-child::after {\n",
              "  align-self: flex-start;\n",
              "  width: 50%;\n",
              "}\n",
              "\n",
              "#sk-container-id-1 div.sk-parallel-item:only-child::after {\n",
              "  width: 0;\n",
              "}\n",
              "\n",
              "/* Serial-specific style estimator block */\n",
              "\n",
              "#sk-container-id-1 div.sk-serial {\n",
              "  display: flex;\n",
              "  flex-direction: column;\n",
              "  align-items: center;\n",
              "  background-color: var(--sklearn-color-background);\n",
              "  padding-right: 1em;\n",
              "  padding-left: 1em;\n",
              "}\n",
              "\n",
              "\n",
              "/* Toggleable style: style used for estimator/Pipeline/ColumnTransformer box that is\n",
              "clickable and can be expanded/collapsed.\n",
              "- Pipeline and ColumnTransformer use this feature and define the default style\n",
              "- Estimators will overwrite some part of the style using the `sk-estimator` class\n",
              "*/\n",
              "\n",
              "/* Pipeline and ColumnTransformer style (default) */\n",
              "\n",
              "#sk-container-id-1 div.sk-toggleable {\n",
              "  /* Default theme specific background. It is overwritten whether we have a\n",
              "  specific estimator or a Pipeline/ColumnTransformer */\n",
              "  background-color: var(--sklearn-color-background);\n",
              "}\n",
              "\n",
              "/* Toggleable label */\n",
              "#sk-container-id-1 label.sk-toggleable__label {\n",
              "  cursor: pointer;\n",
              "  display: flex;\n",
              "  width: 100%;\n",
              "  margin-bottom: 0;\n",
              "  padding: 0.5em;\n",
              "  box-sizing: border-box;\n",
              "  text-align: center;\n",
              "  align-items: start;\n",
              "  justify-content: space-between;\n",
              "  gap: 0.5em;\n",
              "}\n",
              "\n",
              "#sk-container-id-1 label.sk-toggleable__label .caption {\n",
              "  font-size: 0.6rem;\n",
              "  font-weight: lighter;\n",
              "  color: var(--sklearn-color-text-muted);\n",
              "}\n",
              "\n",
              "#sk-container-id-1 label.sk-toggleable__label-arrow:before {\n",
              "  /* Arrow on the left of the label */\n",
              "  content: \"▸\";\n",
              "  float: left;\n",
              "  margin-right: 0.25em;\n",
              "  color: var(--sklearn-color-icon);\n",
              "}\n",
              "\n",
              "#sk-container-id-1 label.sk-toggleable__label-arrow:hover:before {\n",
              "  color: var(--sklearn-color-text);\n",
              "}\n",
              "\n",
              "/* Toggleable content - dropdown */\n",
              "\n",
              "#sk-container-id-1 div.sk-toggleable__content {\n",
              "  max-height: 0;\n",
              "  max-width: 0;\n",
              "  overflow: hidden;\n",
              "  text-align: left;\n",
              "  /* unfitted */\n",
              "  background-color: var(--sklearn-color-unfitted-level-0);\n",
              "}\n",
              "\n",
              "#sk-container-id-1 div.sk-toggleable__content.fitted {\n",
              "  /* fitted */\n",
              "  background-color: var(--sklearn-color-fitted-level-0);\n",
              "}\n",
              "\n",
              "#sk-container-id-1 div.sk-toggleable__content pre {\n",
              "  margin: 0.2em;\n",
              "  border-radius: 0.25em;\n",
              "  color: var(--sklearn-color-text);\n",
              "  /* unfitted */\n",
              "  background-color: var(--sklearn-color-unfitted-level-0);\n",
              "}\n",
              "\n",
              "#sk-container-id-1 div.sk-toggleable__content.fitted pre {\n",
              "  /* unfitted */\n",
              "  background-color: var(--sklearn-color-fitted-level-0);\n",
              "}\n",
              "\n",
              "#sk-container-id-1 input.sk-toggleable__control:checked~div.sk-toggleable__content {\n",
              "  /* Expand drop-down */\n",
              "  max-height: 200px;\n",
              "  max-width: 100%;\n",
              "  overflow: auto;\n",
              "}\n",
              "\n",
              "#sk-container-id-1 input.sk-toggleable__control:checked~label.sk-toggleable__label-arrow:before {\n",
              "  content: \"▾\";\n",
              "}\n",
              "\n",
              "/* Pipeline/ColumnTransformer-specific style */\n",
              "\n",
              "#sk-container-id-1 div.sk-label input.sk-toggleable__control:checked~label.sk-toggleable__label {\n",
              "  color: var(--sklearn-color-text);\n",
              "  background-color: var(--sklearn-color-unfitted-level-2);\n",
              "}\n",
              "\n",
              "#sk-container-id-1 div.sk-label.fitted input.sk-toggleable__control:checked~label.sk-toggleable__label {\n",
              "  background-color: var(--sklearn-color-fitted-level-2);\n",
              "}\n",
              "\n",
              "/* Estimator-specific style */\n",
              "\n",
              "/* Colorize estimator box */\n",
              "#sk-container-id-1 div.sk-estimator input.sk-toggleable__control:checked~label.sk-toggleable__label {\n",
              "  /* unfitted */\n",
              "  background-color: var(--sklearn-color-unfitted-level-2);\n",
              "}\n",
              "\n",
              "#sk-container-id-1 div.sk-estimator.fitted input.sk-toggleable__control:checked~label.sk-toggleable__label {\n",
              "  /* fitted */\n",
              "  background-color: var(--sklearn-color-fitted-level-2);\n",
              "}\n",
              "\n",
              "#sk-container-id-1 div.sk-label label.sk-toggleable__label,\n",
              "#sk-container-id-1 div.sk-label label {\n",
              "  /* The background is the default theme color */\n",
              "  color: var(--sklearn-color-text-on-default-background);\n",
              "}\n",
              "\n",
              "/* On hover, darken the color of the background */\n",
              "#sk-container-id-1 div.sk-label:hover label.sk-toggleable__label {\n",
              "  color: var(--sklearn-color-text);\n",
              "  background-color: var(--sklearn-color-unfitted-level-2);\n",
              "}\n",
              "\n",
              "/* Label box, darken color on hover, fitted */\n",
              "#sk-container-id-1 div.sk-label.fitted:hover label.sk-toggleable__label.fitted {\n",
              "  color: var(--sklearn-color-text);\n",
              "  background-color: var(--sklearn-color-fitted-level-2);\n",
              "}\n",
              "\n",
              "/* Estimator label */\n",
              "\n",
              "#sk-container-id-1 div.sk-label label {\n",
              "  font-family: monospace;\n",
              "  font-weight: bold;\n",
              "  display: inline-block;\n",
              "  line-height: 1.2em;\n",
              "}\n",
              "\n",
              "#sk-container-id-1 div.sk-label-container {\n",
              "  text-align: center;\n",
              "}\n",
              "\n",
              "/* Estimator-specific */\n",
              "#sk-container-id-1 div.sk-estimator {\n",
              "  font-family: monospace;\n",
              "  border: 1px dotted var(--sklearn-color-border-box);\n",
              "  border-radius: 0.25em;\n",
              "  box-sizing: border-box;\n",
              "  margin-bottom: 0.5em;\n",
              "  /* unfitted */\n",
              "  background-color: var(--sklearn-color-unfitted-level-0);\n",
              "}\n",
              "\n",
              "#sk-container-id-1 div.sk-estimator.fitted {\n",
              "  /* fitted */\n",
              "  background-color: var(--sklearn-color-fitted-level-0);\n",
              "}\n",
              "\n",
              "/* on hover */\n",
              "#sk-container-id-1 div.sk-estimator:hover {\n",
              "  /* unfitted */\n",
              "  background-color: var(--sklearn-color-unfitted-level-2);\n",
              "}\n",
              "\n",
              "#sk-container-id-1 div.sk-estimator.fitted:hover {\n",
              "  /* fitted */\n",
              "  background-color: var(--sklearn-color-fitted-level-2);\n",
              "}\n",
              "\n",
              "/* Specification for estimator info (e.g. \"i\" and \"?\") */\n",
              "\n",
              "/* Common style for \"i\" and \"?\" */\n",
              "\n",
              ".sk-estimator-doc-link,\n",
              "a:link.sk-estimator-doc-link,\n",
              "a:visited.sk-estimator-doc-link {\n",
              "  float: right;\n",
              "  font-size: smaller;\n",
              "  line-height: 1em;\n",
              "  font-family: monospace;\n",
              "  background-color: var(--sklearn-color-background);\n",
              "  border-radius: 1em;\n",
              "  height: 1em;\n",
              "  width: 1em;\n",
              "  text-decoration: none !important;\n",
              "  margin-left: 0.5em;\n",
              "  text-align: center;\n",
              "  /* unfitted */\n",
              "  border: var(--sklearn-color-unfitted-level-1) 1pt solid;\n",
              "  color: var(--sklearn-color-unfitted-level-1);\n",
              "}\n",
              "\n",
              ".sk-estimator-doc-link.fitted,\n",
              "a:link.sk-estimator-doc-link.fitted,\n",
              "a:visited.sk-estimator-doc-link.fitted {\n",
              "  /* fitted */\n",
              "  border: var(--sklearn-color-fitted-level-1) 1pt solid;\n",
              "  color: var(--sklearn-color-fitted-level-1);\n",
              "}\n",
              "\n",
              "/* On hover */\n",
              "div.sk-estimator:hover .sk-estimator-doc-link:hover,\n",
              ".sk-estimator-doc-link:hover,\n",
              "div.sk-label-container:hover .sk-estimator-doc-link:hover,\n",
              ".sk-estimator-doc-link:hover {\n",
              "  /* unfitted */\n",
              "  background-color: var(--sklearn-color-unfitted-level-3);\n",
              "  color: var(--sklearn-color-background);\n",
              "  text-decoration: none;\n",
              "}\n",
              "\n",
              "div.sk-estimator.fitted:hover .sk-estimator-doc-link.fitted:hover,\n",
              ".sk-estimator-doc-link.fitted:hover,\n",
              "div.sk-label-container:hover .sk-estimator-doc-link.fitted:hover,\n",
              ".sk-estimator-doc-link.fitted:hover {\n",
              "  /* fitted */\n",
              "  background-color: var(--sklearn-color-fitted-level-3);\n",
              "  color: var(--sklearn-color-background);\n",
              "  text-decoration: none;\n",
              "}\n",
              "\n",
              "/* Span, style for the box shown on hovering the info icon */\n",
              ".sk-estimator-doc-link span {\n",
              "  display: none;\n",
              "  z-index: 9999;\n",
              "  position: relative;\n",
              "  font-weight: normal;\n",
              "  right: .2ex;\n",
              "  padding: .5ex;\n",
              "  margin: .5ex;\n",
              "  width: min-content;\n",
              "  min-width: 20ex;\n",
              "  max-width: 50ex;\n",
              "  color: var(--sklearn-color-text);\n",
              "  box-shadow: 2pt 2pt 4pt #999;\n",
              "  /* unfitted */\n",
              "  background: var(--sklearn-color-unfitted-level-0);\n",
              "  border: .5pt solid var(--sklearn-color-unfitted-level-3);\n",
              "}\n",
              "\n",
              ".sk-estimator-doc-link.fitted span {\n",
              "  /* fitted */\n",
              "  background: var(--sklearn-color-fitted-level-0);\n",
              "  border: var(--sklearn-color-fitted-level-3);\n",
              "}\n",
              "\n",
              ".sk-estimator-doc-link:hover span {\n",
              "  display: block;\n",
              "}\n",
              "\n",
              "/* \"?\"-specific style due to the `<a>` HTML tag */\n",
              "\n",
              "#sk-container-id-1 a.estimator_doc_link {\n",
              "  float: right;\n",
              "  font-size: 1rem;\n",
              "  line-height: 1em;\n",
              "  font-family: monospace;\n",
              "  background-color: var(--sklearn-color-background);\n",
              "  border-radius: 1rem;\n",
              "  height: 1rem;\n",
              "  width: 1rem;\n",
              "  text-decoration: none;\n",
              "  /* unfitted */\n",
              "  color: var(--sklearn-color-unfitted-level-1);\n",
              "  border: var(--sklearn-color-unfitted-level-1) 1pt solid;\n",
              "}\n",
              "\n",
              "#sk-container-id-1 a.estimator_doc_link.fitted {\n",
              "  /* fitted */\n",
              "  border: var(--sklearn-color-fitted-level-1) 1pt solid;\n",
              "  color: var(--sklearn-color-fitted-level-1);\n",
              "}\n",
              "\n",
              "/* On hover */\n",
              "#sk-container-id-1 a.estimator_doc_link:hover {\n",
              "  /* unfitted */\n",
              "  background-color: var(--sklearn-color-unfitted-level-3);\n",
              "  color: var(--sklearn-color-background);\n",
              "  text-decoration: none;\n",
              "}\n",
              "\n",
              "#sk-container-id-1 a.estimator_doc_link.fitted:hover {\n",
              "  /* fitted */\n",
              "  background-color: var(--sklearn-color-fitted-level-3);\n",
              "}\n",
              "</style><div id=\"sk-container-id-1\" class=\"sk-top-container\"><div class=\"sk-text-repr-fallback\"><pre>LassoCV(cv=5, max_iter=10000, random_state=42)</pre><b>In a Jupyter environment, please rerun this cell to show the HTML representation or trust the notebook. <br />On GitHub, the HTML representation is unable to render, please try loading this page with nbviewer.org.</b></div><div class=\"sk-container\" hidden><div class=\"sk-item\"><div class=\"sk-estimator fitted sk-toggleable\"><input class=\"sk-toggleable__control sk-hidden--visually\" id=\"sk-estimator-id-1\" type=\"checkbox\" checked><label for=\"sk-estimator-id-1\" class=\"sk-toggleable__label fitted sk-toggleable__label-arrow\"><div><div>LassoCV</div></div><div><a class=\"sk-estimator-doc-link fitted\" rel=\"noreferrer\" target=\"_blank\" href=\"https://scikit-learn.org/1.6/modules/generated/sklearn.linear_model.LassoCV.html\">?<span>Documentation for LassoCV</span></a><span class=\"sk-estimator-doc-link fitted\">i<span>Fitted</span></span></div></label><div class=\"sk-toggleable__content fitted\"><pre>LassoCV(cv=5, max_iter=10000, random_state=42)</pre></div> </div></div></div></div>"
            ]
          },
          "metadata": {},
          "execution_count": 28
        }
      ]
    },
    {
      "cell_type": "code",
      "source": [
        "print(\"Alpha: \", lasso_cv.alpha_)\n",
        "print(\"Coef: \", lasso_cv.coef_)\n",
        "print(\"Intercept: \", lasso_cv.intercept_)"
      ],
      "metadata": {
        "id": "0t6adzPDbIJQ",
        "colab": {
          "base_uri": "https://localhost:8080/"
        },
        "outputId": "7e3a8d6d-58e6-4653-8f6f-4b011a998985"
      },
      "execution_count": null,
      "outputs": [
        {
          "output_type": "stream",
          "name": "stdout",
          "text": [
            "Alpha:  3.081344564860433e-05\n",
            "Coef:  [0.03078263]\n",
            "Intercept:  0.08011832551821016\n"
          ]
        }
      ]
    },
    {
      "cell_type": "code",
      "source": [
        "# visualize model\n",
        "xlin = np.linspace(min(X_scaled), max(X_scaled), 100)\n",
        "ylin = lasso_cv.intercept_ + lasso_cv.coef_ * xlin\n",
        "\n",
        "plt.scatter(X_scaled,Y)\n",
        "plt.plot(xlin, ylin, color='black')\n",
        "plt.xlabel('Field Goals', size=15)\n",
        "plt.ylabel('Win Shares per 48 Minutes', size=15);"
      ],
      "metadata": {
        "id": "17HsSHow3_qV",
        "colab": {
          "base_uri": "https://localhost:8080/",
          "height": 455
        },
        "outputId": "1570b778-1d83-42aa-8c96-2dae29a349fb"
      },
      "execution_count": null,
      "outputs": [
        {
          "output_type": "display_data",
          "data": {
            "text/plain": [
              "<Figure size 640x480 with 1 Axes>"
            ],
            "image/png": "[encoded data removed]"
          },
          "metadata": {}
        }
      ]
    },
    {
      "cell_type": "markdown",
      "source": [
        "Huber"
      ],
      "metadata": {
        "id": "3DnLsnBh3XtA"
      }
    },
    {
      "cell_type": "code",
      "source": [
        "# Huber Model\n",
        "huber = lm.HuberRegressor()\n",
        "huber.fit(X[:, np.newaxis], Y)\n",
        "\n",
        "print(huber.coef_, huber.intercept_)"
      ],
      "metadata": {
        "id": "3u4S0zZdz7Wq",
        "colab": {
          "base_uri": "https://localhost:8080/"
        },
        "outputId": "67310922-e314-4d5f-c24d-76938479cb5b"
      },
      "execution_count": null,
      "outputs": [
        {
          "output_type": "stream",
          "name": "stdout",
          "text": [
            "[0.57473424] -0.17957030714782576\n"
          ]
        }
      ]
    },
    {
      "cell_type": "code",
      "source": [
        "xlin = np.linspace(min(X), max(X), 100)\n",
        "ylin = huber.intercept_ + huber.coef_ * xlin\n",
        "\n",
        "plt.scatter(X,Y)\n",
        "plt.plot(xlin, ylin, color='black')\n",
        "plt.xlabel('Field Goals', size=15)\n",
        "plt.ylabel('Win Shares per 48 Minutes', size=15);"
      ],
      "metadata": {
        "id": "QSoSRj7c0JV1",
        "colab": {
          "base_uri": "https://localhost:8080/",
          "height": 455
        },
        "outputId": "7c007fe7-fbce-49de-f89d-3a1f57dcc16b"
      },
      "execution_count": null,
      "outputs": [
        {
          "output_type": "display_data",
          "data": {
            "text/plain": [
              "<Figure size 640x480 with 1 Axes>"
            ],
            "image/png": "[encoded data removed]"
          },
          "metadata": {}
        }
      ]
    },
    {
      "cell_type": "markdown",
      "source": [
        "**Validate the Model**"
      ],
      "metadata": {
        "id": "-JICkYAPwr8z"
      }
    },
    {
      "cell_type": "code",
      "source": [
        "from sklearn.model_selection import cross_val_score\n",
        "\n",
        "# we have X and Ys defined, redefine for clarity\n",
        "X = np.array(data1['field_goals'])\n",
        "X = X[:, np.newaxis]\n",
        "Y = np.array(data1['ws48'])\n",
        "\n",
        "scores = -cross_val_score(lin, X, Y, scoring=\"neg_mean_squared_error\", cv=8)\n",
        "print(\"Linear: \", sum(scores) / len(scores))\n",
        "scores = -cross_val_score(huber, X, Y, scoring=\"neg_mean_squared_error\", cv=8)\n",
        "print(\"Huber: \", sum(scores) / len(scores))\n",
        "\n",
        "scores = -cross_val_score(lasso_cv, X_scaled, Y, scoring=\"neg_mean_squared_error\", cv=8)\n",
        "print(\"Lasso: \", sum(scores) / len(scores))\n",
        "scores = -cross_val_score(ridge_cv, X_scaled, Y, scoring=\"neg_mean_squared_error\", cv=8)\n",
        "print(\"Ridge: \", sum(scores) / len(scores))"
      ],
      "metadata": {
        "id": "G5PLVysGxnuC",
        "colab": {
          "base_uri": "https://localhost:8080/"
        },
        "outputId": "4e1fa314-e389-47cc-f61b-9f445b500868"
      },
      "execution_count": null,
      "outputs": [
        {
          "output_type": "stream",
          "name": "stdout",
          "text": [
            "Linear:  0.0019147098260401164\n",
            "Huber:  0.0019181192624652347\n",
            "Lasso:  0.001586011650033756\n"
          ]
        },
        {
          "output_type": "stream",
          "name": "stderr",
          "text": [
            "/usr/local/lib/python3.11/dist-packages/sklearn/linear_model/_ridge.py:2385: FutureWarning: 'store_cv_values' is deprecated in version 1.5 and will be removed in 1.7. Use 'store_cv_results' instead.\n",
            "  warnings.warn(\n",
            "/usr/local/lib/python3.11/dist-packages/sklearn/linear_model/_ridge.py:2385: FutureWarning: 'store_cv_values' is deprecated in version 1.5 and will be removed in 1.7. Use 'store_cv_results' instead.\n",
            "  warnings.warn(\n",
            "/usr/local/lib/python3.11/dist-packages/sklearn/linear_model/_ridge.py:2385: FutureWarning: 'store_cv_values' is deprecated in version 1.5 and will be removed in 1.7. Use 'store_cv_results' instead.\n",
            "  warnings.warn(\n",
            "/usr/local/lib/python3.11/dist-packages/sklearn/linear_model/_ridge.py:2385: FutureWarning: 'store_cv_values' is deprecated in version 1.5 and will be removed in 1.7. Use 'store_cv_results' instead.\n",
            "  warnings.warn(\n",
            "/usr/local/lib/python3.11/dist-packages/sklearn/linear_model/_ridge.py:2385: FutureWarning: 'store_cv_values' is deprecated in version 1.5 and will be removed in 1.7. Use 'store_cv_results' instead.\n",
            "  warnings.warn(\n",
            "/usr/local/lib/python3.11/dist-packages/sklearn/linear_model/_ridge.py:2385: FutureWarning: 'store_cv_values' is deprecated in version 1.5 and will be removed in 1.7. Use 'store_cv_results' instead.\n",
            "  warnings.warn(\n",
            "/usr/local/lib/python3.11/dist-packages/sklearn/linear_model/_ridge.py:2385: FutureWarning: 'store_cv_values' is deprecated in version 1.5 and will be removed in 1.7. Use 'store_cv_results' instead.\n",
            "  warnings.warn(\n",
            "/usr/local/lib/python3.11/dist-packages/sklearn/linear_model/_ridge.py:2385: FutureWarning: 'store_cv_values' is deprecated in version 1.5 and will be removed in 1.7. Use 'store_cv_results' instead.\n",
            "  warnings.warn(\n"
          ]
        },
        {
          "output_type": "stream",
          "name": "stdout",
          "text": [
            "Ridge:  0.0015860217995938913\n"
          ]
        }
      ]
    },
    {
      "cell_type": "markdown",
      "source": [
        "# **Multiple Linear Regression**"
      ],
      "metadata": {
        "id": "cqdBaN32MgGx"
      }
    },
    {
      "cell_type": "code",
      "source": [
        " from sklearn.model_selection import train_test_split"
      ],
      "metadata": {
        "id": "F4YmV9KY43bu"
      },
      "execution_count": null,
      "outputs": []
    },
    {
      "cell_type": "code",
      "source": [
        "data1.columns"
      ],
      "metadata": {
        "id": "fY6c3xOiUoSL",
        "colab": {
          "base_uri": "https://localhost:8080/"
        },
        "outputId": "256135e8-48b6-4964-f104-73548f33fc08"
      },
      "execution_count": null,
      "outputs": [
        {
          "output_type": "execute_result",
          "data": {
            "text/plain": [
              "Index(['month', 'day', 'player', 'year_born', 'years_played', 'games_played',\n",
              "       'field_goals', 'field_goal_attempts', '3point_field_goals',\n",
              "       '3point_field_goal_attempts', 'free_throws', 'free_throw_attempts',\n",
              "       'offensive_rebounds', 'steals', 'blocks', 'turnovers', 'personal_fouls',\n",
              "       'win_shares', 'field_goal_percent', '3point_field_goal_percent',\n",
              "       'free_throw_percent', 'minutes_played_per_game', 'points_per_game',\n",
              "       'total_rebounds_per_game', 'assists_per_game', 'points',\n",
              "       'minutes_played', 'total_rebounds', 'assists', 'age', 'city', 'region',\n",
              "       'position', 'college', 'team_recent', 'dunkattempts', 'championship',\n",
              "       'sex', 'status', 'height_default', 'height_cm', 'weight_kg',\n",
              "       'weight_lb', 'win_share_per_game', 'steals_pg', 'blocks_pg',\n",
              "       'turnovers_pg', 'personal_fouls_pg'],\n",
              "      dtype='object')"
            ]
          },
          "metadata": {},
          "execution_count": 158
        }
      ]
    },
    {
      "cell_type": "code",
      "source": [
        "# select appropriate columns\n",
        "data2 = data1.dropna(subset=['steals','steals_pg', 'blocks', 'blocks_pg', 'turnovers', 'turnovers_pg', 'personal_fouls', 'personal_fouls_pg',\\\n",
        "                         'field_goal_percent', '3point_field_goal_percent', 'free_throw_percent',\\\n",
        "                         'points_per_game','total_rebounds_per_game', 'assists_per_game','height_cm','win_share_per_game', 'weight_kg', 'minutes_played_per_game', 'years_played'])\n",
        "\n",
        "X  = data2[['steals_pg', 'blocks_pg', 'turnovers_pg', 'personal_fouls_pg', \\\n",
        "                         'field_goal_percent', '3point_field_goal_percent', 'free_throw_percent',\\\n",
        "                         'points_per_game','total_rebounds_per_game', 'assists_per_game','height_cm','weight_kg', 'minutes_played_per_game','years_played']]\n",
        "Y = data2['win_share_per_game']"
      ],
      "metadata": {
        "id": "QNOrya0cMj93"
      },
      "execution_count": null,
      "outputs": []
    },
    {
      "cell_type": "code",
      "source": [
        "# standardize vars\n",
        "scaler = StandardScaler()\n",
        "X_scaled = scaler.fit_transform(X)"
      ],
      "metadata": {
        "id": "aPsd6IaalRR1"
      },
      "execution_count": null,
      "outputs": []
    },
    {
      "cell_type": "code",
      "source": [
        "# train and test  for prediction, not needed for inference\n",
        "#X_train, X_test, y_train, y_test = train_test_split(X_scaled, Y, test_size=0.2, random_state=42)"
      ],
      "metadata": {
        "id": "-d4y5VI_lcDp"
      },
      "execution_count": null,
      "outputs": []
    },
    {
      "cell_type": "code",
      "source": [
        "multlin = lm.LinearRegression()\n",
        "multlin.fit(X_scaled, Y)\n",
        "\n",
        "multlin2 = lm.LinearRegression()\n",
        "multlin2.fit(X, Y)\n",
        "\n",
        "alphas = [ x for x in range(1,101)]\n",
        "ridge_cv = lm.RidgeCV(alphas=alphas, store_cv_values=True)\n",
        "ridge_cv.fit(X_scaled, Y)\n",
        "\n",
        "ridge_cv2 = lm.RidgeCV(alphas=alphas, store_cv_values=True)\n",
        "ridge_cv2.fit(X, Y)"
      ],
      "metadata": {
        "id": "k4MTuuDhn8vU",
        "colab": {
          "base_uri": "https://localhost:8080/",
          "height": 188
        },
        "outputId": "5e255d77-bea5-4528-e042-b741ed00e0ab"
      },
      "execution_count": null,
      "outputs": [
        {
          "output_type": "stream",
          "name": "stderr",
          "text": [
            "/usr/local/lib/python3.11/dist-packages/sklearn/linear_model/_ridge.py:2385: FutureWarning: 'store_cv_values' is deprecated in version 1.5 and will be removed in 1.7. Use 'store_cv_results' instead.\n",
            "  warnings.warn(\n",
            "/usr/local/lib/python3.11/dist-packages/sklearn/linear_model/_ridge.py:2385: FutureWarning: 'store_cv_values' is deprecated in version 1.5 and will be removed in 1.7. Use 'store_cv_results' instead.\n",
            "  warnings.warn(\n"
          ]
        },
        {
          "output_type": "execute_result",
          "data": {
            "text/plain": [
              "RidgeCV(alphas=[1, 2, 3, 4, 5, 6, 7, 8, 9, 10, 11, 12, 13, 14, 15, 16, 17, 18,\n",
              "                19, 20, 21, 22, 23, 24, 25, 26, 27, 28, 29, 30, ...],\n",
              "        store_cv_values=True)"
            ],
            "text/html": [
              "<style>#sk-container-id-9 {\n",
              "  /* Definition of color scheme common for light and dark mode */\n",
              "  --sklearn-color-text: #000;\n",
              "  --sklearn-color-text-muted: #666;\n",
              "  --sklearn-color-line: gray;\n",
              "  /* Definition of color scheme for unfitted estimators */\n",
              "  --sklearn-color-unfitted-level-0: #fff5e6;\n",
              "  --sklearn-color-unfitted-level-1: #f6e4d2;\n",
              "  --sklearn-color-unfitted-level-2: #ffe0b3;\n",
              "  --sklearn-color-unfitted-level-3: chocolate;\n",
              "  /* Definition of color scheme for fitted estimators */\n",
              "  --sklearn-color-fitted-level-0: #f0f8ff;\n",
              "  --sklearn-color-fitted-level-1: #d4ebff;\n",
              "  --sklearn-color-fitted-level-2: #b3dbfd;\n",
              "  --sklearn-color-fitted-level-3: cornflowerblue;\n",
              "\n",
              "  /* Specific color for light theme */\n",
              "  --sklearn-color-text-on-default-background: var(--sg-text-color, var(--theme-code-foreground, var(--jp-content-font-color1, black)));\n",
              "  --sklearn-color-background: var(--sg-background-color, var(--theme-background, var(--jp-layout-color0, white)));\n",
              "  --sklearn-color-border-box: var(--sg-text-color, var(--theme-code-foreground, var(--jp-content-font-color1, black)));\n",
              "  --sklearn-color-icon: #696969;\n",
              "\n",
              "  @media (prefers-color-scheme: dark) {\n",
              "    /* Redefinition of color scheme for dark theme */\n",
              "    --sklearn-color-text-on-default-background: var(--sg-text-color, var(--theme-code-foreground, var(--jp-content-font-color1, white)));\n",
              "    --sklearn-color-background: var(--sg-background-color, var(--theme-background, var(--jp-layout-color0, #111)));\n",
              "    --sklearn-color-border-box: var(--sg-text-color, var(--theme-code-foreground, var(--jp-content-font-color1, white)));\n",
              "    --sklearn-color-icon: #878787;\n",
              "  }\n",
              "}\n",
              "\n",
              "#sk-container-id-9 {\n",
              "  color: var(--sklearn-color-text);\n",
              "}\n",
              "\n",
              "#sk-container-id-9 pre {\n",
              "  padding: 0;\n",
              "}\n",
              "\n",
              "#sk-container-id-9 input.sk-hidden--visually {\n",
              "  border: 0;\n",
              "  clip: rect(1px 1px 1px 1px);\n",
              "  clip: rect(1px, 1px, 1px, 1px);\n",
              "  height: 1px;\n",
              "  margin: -1px;\n",
              "  overflow: hidden;\n",
              "  padding: 0;\n",
              "  position: absolute;\n",
              "  width: 1px;\n",
              "}\n",
              "\n",
              "#sk-container-id-9 div.sk-dashed-wrapped {\n",
              "  border: 1px dashed var(--sklearn-color-line);\n",
              "  margin: 0 0.4em 0.5em 0.4em;\n",
              "  box-sizing: border-box;\n",
              "  padding-bottom: 0.4em;\n",
              "  background-color: var(--sklearn-color-background);\n",
              "}\n",
              "\n",
              "#sk-container-id-9 div.sk-container {\n",
              "  /* jupyter's `normalize.less` sets `[hidden] { display: none; }`\n",
              "     but bootstrap.min.css set `[hidden] { display: none !important; }`\n",
              "     so we also need the `!important` here to be able to override the\n",
              "     default hidden behavior on the sphinx rendered scikit-learn.org.\n",
              "     See: https://github.com/scikit-learn/scikit-learn/issues/21755 */\n",
              "  display: inline-block !important;\n",
              "  position: relative;\n",
              "}\n",
              "\n",
              "#sk-container-id-9 div.sk-text-repr-fallback {\n",
              "  display: none;\n",
              "}\n",
              "\n",
              "div.sk-parallel-item,\n",
              "div.sk-serial,\n",
              "div.sk-item {\n",
              "  /* draw centered vertical line to link estimators */\n",
              "  background-image: linear-gradient(var(--sklearn-color-text-on-default-background), var(--sklearn-color-text-on-default-background));\n",
              "  background-size: 2px 100%;\n",
              "  background-repeat: no-repeat;\n",
              "  background-position: center center;\n",
              "}\n",
              "\n",
              "/* Parallel-specific style estimator block */\n",
              "\n",
              "#sk-container-id-9 div.sk-parallel-item::after {\n",
              "  content: \"\";\n",
              "  width: 100%;\n",
              "  border-bottom: 2px solid var(--sklearn-color-text-on-default-background);\n",
              "  flex-grow: 1;\n",
              "}\n",
              "\n",
              "#sk-container-id-9 div.sk-parallel {\n",
              "  display: flex;\n",
              "  align-items: stretch;\n",
              "  justify-content: center;\n",
              "  background-color: var(--sklearn-color-background);\n",
              "  position: relative;\n",
              "}\n",
              "\n",
              "#sk-container-id-9 div.sk-parallel-item {\n",
              "  display: flex;\n",
              "  flex-direction: column;\n",
              "}\n",
              "\n",
              "#sk-container-id-9 div.sk-parallel-item:first-child::after {\n",
              "  align-self: flex-end;\n",
              "  width: 50%;\n",
              "}\n",
              "\n",
              "#sk-container-id-9 div.sk-parallel-item:last-child::after {\n",
              "  align-self: flex-start;\n",
              "  width: 50%;\n",
              "}\n",
              "\n",
              "#sk-container-id-9 div.sk-parallel-item:only-child::after {\n",
              "  width: 0;\n",
              "}\n",
              "\n",
              "/* Serial-specific style estimator block */\n",
              "\n",
              "#sk-container-id-9 div.sk-serial {\n",
              "  display: flex;\n",
              "  flex-direction: column;\n",
              "  align-items: center;\n",
              "  background-color: var(--sklearn-color-background);\n",
              "  padding-right: 1em;\n",
              "  padding-left: 1em;\n",
              "}\n",
              "\n",
              "\n",
              "/* Toggleable style: style used for estimator/Pipeline/ColumnTransformer box that is\n",
              "clickable and can be expanded/collapsed.\n",
              "- Pipeline and ColumnTransformer use this feature and define the default style\n",
              "- Estimators will overwrite some part of the style using the `sk-estimator` class\n",
              "*/\n",
              "\n",
              "/* Pipeline and ColumnTransformer style (default) */\n",
              "\n",
              "#sk-container-id-9 div.sk-toggleable {\n",
              "  /* Default theme specific background. It is overwritten whether we have a\n",
              "  specific estimator or a Pipeline/ColumnTransformer */\n",
              "  background-color: var(--sklearn-color-background);\n",
              "}\n",
              "\n",
              "/* Toggleable label */\n",
              "#sk-container-id-9 label.sk-toggleable__label {\n",
              "  cursor: pointer;\n",
              "  display: flex;\n",
              "  width: 100%;\n",
              "  margin-bottom: 0;\n",
              "  padding: 0.5em;\n",
              "  box-sizing: border-box;\n",
              "  text-align: center;\n",
              "  align-items: start;\n",
              "  justify-content: space-between;\n",
              "  gap: 0.5em;\n",
              "}\n",
              "\n",
              "#sk-container-id-9 label.sk-toggleable__label .caption {\n",
              "  font-size: 0.6rem;\n",
              "  font-weight: lighter;\n",
              "  color: var(--sklearn-color-text-muted);\n",
              "}\n",
              "\n",
              "#sk-container-id-9 label.sk-toggleable__label-arrow:before {\n",
              "  /* Arrow on the left of the label */\n",
              "  content: \"▸\";\n",
              "  float: left;\n",
              "  margin-right: 0.25em;\n",
              "  color: var(--sklearn-color-icon);\n",
              "}\n",
              "\n",
              "#sk-container-id-9 label.sk-toggleable__label-arrow:hover:before {\n",
              "  color: var(--sklearn-color-text);\n",
              "}\n",
              "\n",
              "/* Toggleable content - dropdown */\n",
              "\n",
              "#sk-container-id-9 div.sk-toggleable__content {\n",
              "  max-height: 0;\n",
              "  max-width: 0;\n",
              "  overflow: hidden;\n",
              "  text-align: left;\n",
              "  /* unfitted */\n",
              "  background-color: var(--sklearn-color-unfitted-level-0);\n",
              "}\n",
              "\n",
              "#sk-container-id-9 div.sk-toggleable__content.fitted {\n",
              "  /* fitted */\n",
              "  background-color: var(--sklearn-color-fitted-level-0);\n",
              "}\n",
              "\n",
              "#sk-container-id-9 div.sk-toggleable__content pre {\n",
              "  margin: 0.2em;\n",
              "  border-radius: 0.25em;\n",
              "  color: var(--sklearn-color-text);\n",
              "  /* unfitted */\n",
              "  background-color: var(--sklearn-color-unfitted-level-0);\n",
              "}\n",
              "\n",
              "#sk-container-id-9 div.sk-toggleable__content.fitted pre {\n",
              "  /* unfitted */\n",
              "  background-color: var(--sklearn-color-fitted-level-0);\n",
              "}\n",
              "\n",
              "#sk-container-id-9 input.sk-toggleable__control:checked~div.sk-toggleable__content {\n",
              "  /* Expand drop-down */\n",
              "  max-height: 200px;\n",
              "  max-width: 100%;\n",
              "  overflow: auto;\n",
              "}\n",
              "\n",
              "#sk-container-id-9 input.sk-toggleable__control:checked~label.sk-toggleable__label-arrow:before {\n",
              "  content: \"▾\";\n",
              "}\n",
              "\n",
              "/* Pipeline/ColumnTransformer-specific style */\n",
              "\n",
              "#sk-container-id-9 div.sk-label input.sk-toggleable__control:checked~label.sk-toggleable__label {\n",
              "  color: var(--sklearn-color-text);\n",
              "  background-color: var(--sklearn-color-unfitted-level-2);\n",
              "}\n",
              "\n",
              "#sk-container-id-9 div.sk-label.fitted input.sk-toggleable__control:checked~label.sk-toggleable__label {\n",
              "  background-color: var(--sklearn-color-fitted-level-2);\n",
              "}\n",
              "\n",
              "/* Estimator-specific style */\n",
              "\n",
              "/* Colorize estimator box */\n",
              "#sk-container-id-9 div.sk-estimator input.sk-toggleable__control:checked~label.sk-toggleable__label {\n",
              "  /* unfitted */\n",
              "  background-color: var(--sklearn-color-unfitted-level-2);\n",
              "}\n",
              "\n",
              "#sk-container-id-9 div.sk-estimator.fitted input.sk-toggleable__control:checked~label.sk-toggleable__label {\n",
              "  /* fitted */\n",
              "  background-color: var(--sklearn-color-fitted-level-2);\n",
              "}\n",
              "\n",
              "#sk-container-id-9 div.sk-label label.sk-toggleable__label,\n",
              "#sk-container-id-9 div.sk-label label {\n",
              "  /* The background is the default theme color */\n",
              "  color: var(--sklearn-color-text-on-default-background);\n",
              "}\n",
              "\n",
              "/* On hover, darken the color of the background */\n",
              "#sk-container-id-9 div.sk-label:hover label.sk-toggleable__label {\n",
              "  color: var(--sklearn-color-text);\n",
              "  background-color: var(--sklearn-color-unfitted-level-2);\n",
              "}\n",
              "\n",
              "/* Label box, darken color on hover, fitted */\n",
              "#sk-container-id-9 div.sk-label.fitted:hover label.sk-toggleable__label.fitted {\n",
              "  color: var(--sklearn-color-text);\n",
              "  background-color: var(--sklearn-color-fitted-level-2);\n",
              "}\n",
              "\n",
              "/* Estimator label */\n",
              "\n",
              "#sk-container-id-9 div.sk-label label {\n",
              "  font-family: monospace;\n",
              "  font-weight: bold;\n",
              "  display: inline-block;\n",
              "  line-height: 1.2em;\n",
              "}\n",
              "\n",
              "#sk-container-id-9 div.sk-label-container {\n",
              "  text-align: center;\n",
              "}\n",
              "\n",
              "/* Estimator-specific */\n",
              "#sk-container-id-9 div.sk-estimator {\n",
              "  font-family: monospace;\n",
              "  border: 1px dotted var(--sklearn-color-border-box);\n",
              "  border-radius: 0.25em;\n",
              "  box-sizing: border-box;\n",
              "  margin-bottom: 0.5em;\n",
              "  /* unfitted */\n",
              "  background-color: var(--sklearn-color-unfitted-level-0);\n",
              "}\n",
              "\n",
              "#sk-container-id-9 div.sk-estimator.fitted {\n",
              "  /* fitted */\n",
              "  background-color: var(--sklearn-color-fitted-level-0);\n",
              "}\n",
              "\n",
              "/* on hover */\n",
              "#sk-container-id-9 div.sk-estimator:hover {\n",
              "  /* unfitted */\n",
              "  background-color: var(--sklearn-color-unfitted-level-2);\n",
              "}\n",
              "\n",
              "#sk-container-id-9 div.sk-estimator.fitted:hover {\n",
              "  /* fitted */\n",
              "  background-color: var(--sklearn-color-fitted-level-2);\n",
              "}\n",
              "\n",
              "/* Specification for estimator info (e.g. \"i\" and \"?\") */\n",
              "\n",
              "/* Common style for \"i\" and \"?\" */\n",
              "\n",
              ".sk-estimator-doc-link,\n",
              "a:link.sk-estimator-doc-link,\n",
              "a:visited.sk-estimator-doc-link {\n",
              "  float: right;\n",
              "  font-size: smaller;\n",
              "  line-height: 1em;\n",
              "  font-family: monospace;\n",
              "  background-color: var(--sklearn-color-background);\n",
              "  border-radius: 1em;\n",
              "  height: 1em;\n",
              "  width: 1em;\n",
              "  text-decoration: none !important;\n",
              "  margin-left: 0.5em;\n",
              "  text-align: center;\n",
              "  /* unfitted */\n",
              "  border: var(--sklearn-color-unfitted-level-1) 1pt solid;\n",
              "  color: var(--sklearn-color-unfitted-level-1);\n",
              "}\n",
              "\n",
              ".sk-estimator-doc-link.fitted,\n",
              "a:link.sk-estimator-doc-link.fitted,\n",
              "a:visited.sk-estimator-doc-link.fitted {\n",
              "  /* fitted */\n",
              "  border: var(--sklearn-color-fitted-level-1) 1pt solid;\n",
              "  color: var(--sklearn-color-fitted-level-1);\n",
              "}\n",
              "\n",
              "/* On hover */\n",
              "div.sk-estimator:hover .sk-estimator-doc-link:hover,\n",
              ".sk-estimator-doc-link:hover,\n",
              "div.sk-label-container:hover .sk-estimator-doc-link:hover,\n",
              ".sk-estimator-doc-link:hover {\n",
              "  /* unfitted */\n",
              "  background-color: var(--sklearn-color-unfitted-level-3);\n",
              "  color: var(--sklearn-color-background);\n",
              "  text-decoration: none;\n",
              "}\n",
              "\n",
              "div.sk-estimator.fitted:hover .sk-estimator-doc-link.fitted:hover,\n",
              ".sk-estimator-doc-link.fitted:hover,\n",
              "div.sk-label-container:hover .sk-estimator-doc-link.fitted:hover,\n",
              ".sk-estimator-doc-link.fitted:hover {\n",
              "  /* fitted */\n",
              "  background-color: var(--sklearn-color-fitted-level-3);\n",
              "  color: var(--sklearn-color-background);\n",
              "  text-decoration: none;\n",
              "}\n",
              "\n",
              "/* Span, style for the box shown on hovering the info icon */\n",
              ".sk-estimator-doc-link span {\n",
              "  display: none;\n",
              "  z-index: 9999;\n",
              "  position: relative;\n",
              "  font-weight: normal;\n",
              "  right: .2ex;\n",
              "  padding: .5ex;\n",
              "  margin: .5ex;\n",
              "  width: min-content;\n",
              "  min-width: 20ex;\n",
              "  max-width: 50ex;\n",
              "  color: var(--sklearn-color-text);\n",
              "  box-shadow: 2pt 2pt 4pt #999;\n",
              "  /* unfitted */\n",
              "  background: var(--sklearn-color-unfitted-level-0);\n",
              "  border: .5pt solid var(--sklearn-color-unfitted-level-3);\n",
              "}\n",
              "\n",
              ".sk-estimator-doc-link.fitted span {\n",
              "  /* fitted */\n",
              "  background: var(--sklearn-color-fitted-level-0);\n",
              "  border: var(--sklearn-color-fitted-level-3);\n",
              "}\n",
              "\n",
              ".sk-estimator-doc-link:hover span {\n",
              "  display: block;\n",
              "}\n",
              "\n",
              "/* \"?\"-specific style due to the `<a>` HTML tag */\n",
              "\n",
              "#sk-container-id-9 a.estimator_doc_link {\n",
              "  float: right;\n",
              "  font-size: 1rem;\n",
              "  line-height: 1em;\n",
              "  font-family: monospace;\n",
              "  background-color: var(--sklearn-color-background);\n",
              "  border-radius: 1rem;\n",
              "  height: 1rem;\n",
              "  width: 1rem;\n",
              "  text-decoration: none;\n",
              "  /* unfitted */\n",
              "  color: var(--sklearn-color-unfitted-level-1);\n",
              "  border: var(--sklearn-color-unfitted-level-1) 1pt solid;\n",
              "}\n",
              "\n",
              "#sk-container-id-9 a.estimator_doc_link.fitted {\n",
              "  /* fitted */\n",
              "  border: var(--sklearn-color-fitted-level-1) 1pt solid;\n",
              "  color: var(--sklearn-color-fitted-level-1);\n",
              "}\n",
              "\n",
              "/* On hover */\n",
              "#sk-container-id-9 a.estimator_doc_link:hover {\n",
              "  /* unfitted */\n",
              "  background-color: var(--sklearn-color-unfitted-level-3);\n",
              "  color: var(--sklearn-color-background);\n",
              "  text-decoration: none;\n",
              "}\n",
              "\n",
              "#sk-container-id-9 a.estimator_doc_link.fitted:hover {\n",
              "  /* fitted */\n",
              "  background-color: var(--sklearn-color-fitted-level-3);\n",
              "}\n",
              "</style><div id=\"sk-container-id-9\" class=\"sk-top-container\"><div class=\"sk-text-repr-fallback\"><pre>RidgeCV(alphas=[1, 2, 3, 4, 5, 6, 7, 8, 9, 10, 11, 12, 13, 14, 15, 16, 17, 18,\n",
              "                19, 20, 21, 22, 23, 24, 25, 26, 27, 28, 29, 30, ...],\n",
              "        store_cv_values=True)</pre><b>In a Jupyter environment, please rerun this cell to show the HTML representation or trust the notebook. <br />On GitHub, the HTML representation is unable to render, please try loading this page with nbviewer.org.</b></div><div class=\"sk-container\" hidden><div class=\"sk-item\"><div class=\"sk-estimator fitted sk-toggleable\"><input class=\"sk-toggleable__control sk-hidden--visually\" id=\"sk-estimator-id-9\" type=\"checkbox\" checked><label for=\"sk-estimator-id-9\" class=\"sk-toggleable__label fitted sk-toggleable__label-arrow\"><div><div>RidgeCV</div></div><div><a class=\"sk-estimator-doc-link fitted\" rel=\"noreferrer\" target=\"_blank\" href=\"https://scikit-learn.org/1.6/modules/generated/sklearn.linear_model.RidgeCV.html\">?<span>Documentation for RidgeCV</span></a><span class=\"sk-estimator-doc-link fitted\">i<span>Fitted</span></span></div></label><div class=\"sk-toggleable__content fitted\"><pre>RidgeCV(alphas=[1, 2, 3, 4, 5, 6, 7, 8, 9, 10, 11, 12, 13, 14, 15, 16, 17, 18,\n",
              "                19, 20, 21, 22, 23, 24, 25, 26, 27, 28, 29, 30, ...],\n",
              "        store_cv_values=True)</pre></div> </div></div></div></div>"
            ]
          },
          "metadata": {},
          "execution_count": 198
        }
      ]
    },
    {
      "cell_type": "markdown",
      "source": [
        "Results for Linear Regression"
      ],
      "metadata": {
        "id": "3ww6ds2sWtWc"
      }
    },
    {
      "cell_type": "code",
      "source": [
        "# R² score (how well model fits)\n",
        "print(\"R^2 Score Linear:\", format(multlin.score(X_scaled, Y), \"0.2f\") )\n",
        "\n",
        "# Coefficients\n",
        "coef = pd.Series(multlin.coef_, index=X.columns)\n",
        "print(\"Coefficients:\\n\", coef)\n",
        "\n",
        "# Intercept\n",
        "print(\"Intercept:\", multlin.intercept_)"
      ],
      "metadata": {
        "id": "zoXFZtRErpnU",
        "colab": {
          "base_uri": "https://localhost:8080/"
        },
        "outputId": "c21f7c4e-497f-4944-aab5-de42739916ab"
      },
      "execution_count": null,
      "outputs": [
        {
          "output_type": "stream",
          "name": "stdout",
          "text": [
            "R^2 Score Linear: 0.74\n",
            "Coefficients:\n",
            " steals_pg                    0.010737\n",
            "blocks_pg                    0.004670\n",
            "turnovers_pg                -0.022086\n",
            "personal_fouls_pg            0.001431\n",
            "field_goal_percent           0.022059\n",
            "3point_field_goal_percent    0.002870\n",
            "free_throw_percent           0.009652\n",
            "points_per_game              0.016866\n",
            "total_rebounds_per_game      0.021892\n",
            "assists_per_game             0.009988\n",
            "height_cm                   -0.009527\n",
            "weight_kg                   -0.000568\n",
            "minutes_played_per_game     -0.016816\n",
            "years_played                 0.010299\n",
            "dtype: float64\n",
            "Intercept: 0.08191642229453917\n"
          ]
        }
      ]
    },
    {
      "cell_type": "code",
      "source": [
        "# R² score (how well model fits)\n",
        "print(\"R^2 Score Linear:\", format(multlin2.score(X, Y), \"0.2f\") )\n",
        "\n",
        "# Coefficients\n",
        "coef = pd.Series(multlin2.coef_, index=X.columns)\n",
        "print(\"Coefficients:\\n\", coef)\n",
        "\n",
        "# Intercept\n",
        "print(\"Intercept:\", multlin2.intercept_)"
      ],
      "metadata": {
        "colab": {
          "base_uri": "https://localhost:8080/"
        },
        "id": "2sQPcR6jYjdE",
        "outputId": "33ce7f40-1664-40cb-9e40-111528b63cd9"
      },
      "execution_count": null,
      "outputs": [
        {
          "output_type": "stream",
          "name": "stdout",
          "text": [
            "R^2 Score Linear: 0.74\n",
            "Coefficients:\n",
            " steals_pg                    0.030088\n",
            "blocks_pg                    0.011356\n",
            "turnovers_pg                -0.035126\n",
            "personal_fouls_pg            0.002404\n",
            "field_goal_percent           0.435143\n",
            "3point_field_goal_percent    0.024194\n",
            "free_throw_percent           0.113625\n",
            "points_per_game              0.003660\n",
            "total_rebounds_per_game      0.010741\n",
            "assists_per_game             0.006848\n",
            "height_cm                   -0.000931\n",
            "weight_kg                   -0.000043\n",
            "minutes_played_per_game     -0.002484\n",
            "years_played                 0.002375\n",
            "dtype: float64\n",
            "Intercept: -0.053387317840593154\n"
          ]
        }
      ]
    },
    {
      "cell_type": "markdown",
      "source": [
        "Results for Ridge Regression"
      ],
      "metadata": {
        "id": "jt931mrZWxkm"
      }
    },
    {
      "cell_type": "code",
      "source": [
        "# R² score (how well model fits)\n",
        "print(\"R^2 Score:\", format(ridge_cv.score(X_scaled, Y), \"0.2f\") )\\\n",
        "\n",
        "# Coefficients\n",
        "coef = pd.Series(ridge_cv.coef_, index=X.columns)\n",
        "print(\"Coefficients:\\n\", coef)\n",
        "\n",
        "# Intercept\n",
        "print(\"Intercept:\", ridge_cv.intercept_)\n",
        "\n",
        "#Alpha\n",
        "print(\"Alpha: \", ridge_cv.alpha_)"
      ],
      "metadata": {
        "colab": {
          "base_uri": "https://localhost:8080/"
        },
        "id": "DIf6gZrTVELV",
        "outputId": "905fd3d1-2505-4232-8f31-c40164770c51"
      },
      "execution_count": null,
      "outputs": [
        {
          "output_type": "stream",
          "name": "stdout",
          "text": [
            "R^2 Score: 0.74\n",
            "Coefficients:\n",
            " steals_pg                    0.010718\n",
            "blocks_pg                    0.004676\n",
            "turnovers_pg                -0.021930\n",
            "personal_fouls_pg            0.001376\n",
            "field_goal_percent           0.022072\n",
            "3point_field_goal_percent    0.002872\n",
            "free_throw_percent           0.009655\n",
            "points_per_game              0.016699\n",
            "total_rebounds_per_game      0.021796\n",
            "assists_per_game             0.009895\n",
            "height_cm                   -0.009485\n",
            "weight_kg                   -0.000552\n",
            "minutes_played_per_game     -0.016619\n",
            "years_played                 0.010284\n",
            "dtype: float64\n",
            "Intercept: 0.08191642229453917\n",
            "Alpha:  2\n"
          ]
        }
      ]
    },
    {
      "cell_type": "code",
      "source": [
        "# R² score (how well model fits)\n",
        "print(\"R^2 Score Linear:\", format(ridge_cv2.score(X, Y), \"0.2f\") )\n",
        "\n",
        "# Coefficients\n",
        "coef = pd.Series(ridge_cv2.coef_, index=X.columns)\n",
        "print(\"Coefficients:\\n\", coef)\n",
        "\n",
        "# Intercept\n",
        "print(\"Intercept:\", ridge_cv2.intercept_)"
      ],
      "metadata": {
        "colab": {
          "base_uri": "https://localhost:8080/"
        },
        "id": "7yq6-UUmYx6A",
        "outputId": "9cb30a27-f481-4618-d158-bd09b4d2095f"
      },
      "execution_count": null,
      "outputs": [
        {
          "output_type": "stream",
          "name": "stdout",
          "text": [
            "R^2 Score Linear: 0.73\n",
            "Coefficients:\n",
            " steals_pg                    0.029255\n",
            "blocks_pg                    0.012011\n",
            "turnovers_pg                -0.037707\n",
            "personal_fouls_pg            0.003245\n",
            "field_goal_percent           0.362147\n",
            "3point_field_goal_percent    0.019080\n",
            "free_throw_percent           0.101593\n",
            "points_per_game              0.004183\n",
            "total_rebounds_per_game      0.011315\n",
            "assists_per_game             0.007585\n",
            "height_cm                   -0.000899\n",
            "weight_kg                   -0.000041\n",
            "minutes_played_per_game     -0.002713\n",
            "years_played                 0.002460\n",
            "dtype: float64\n",
            "Intercept: -0.018646241940829228\n"
          ]
        }
      ]
    },
    {
      "cell_type": "markdown",
      "source": [
        "Validate"
      ],
      "metadata": {
        "id": "O3G7B0J9eZa0"
      }
    },
    {
      "cell_type": "markdown",
      "source": [
        "Compare coefficients"
      ],
      "metadata": {
        "id": "uacmsUsEXQxv"
      }
    },
    {
      "cell_type": "code",
      "source": [
        "import matplotlib.pyplot as plt\n",
        "\n",
        "plt.figure(figsize=(10, 6))\n",
        "plt.bar(X.columns, multlin.fit(X_scaled, Y).coef_, label='Linear')\n",
        "plt.bar(X.columns, ridge_cv.fit(X_scaled, Y).coef_, alpha=0.7, label='Ridge')\n",
        "\n",
        "\n",
        "plt.xticks(rotation=90)\n",
        "plt.ylabel(\"Coefficient Value\")\n",
        "plt.title(\"Linear vs Ridge Coefficients\")\n",
        "plt.legend()\n",
        "plt.tight_layout()\n",
        "plt.show()"
      ],
      "metadata": {
        "colab": {
          "base_uri": "https://localhost:8080/",
          "height": 643
        },
        "id": "zH3JD00dXTbD",
        "outputId": "4ce4ecb6-55b1-428a-975f-a639de69ac00"
      },
      "execution_count": null,
      "outputs": [
        {
          "output_type": "stream",
          "name": "stderr",
          "text": [
            "/usr/local/lib/python3.11/dist-packages/sklearn/linear_model/_ridge.py:2385: FutureWarning: 'store_cv_values' is deprecated in version 1.5 and will be removed in 1.7. Use 'store_cv_results' instead.\n",
            "  warnings.warn(\n"
          ]
        },
        {
          "output_type": "display_data",
          "data": {
            "text/plain": [
              "<Figure size 1000x600 with 1 Axes>"
            ],
            "image/png": "[encoded data removed]"
          },
          "metadata": {}
        }
      ]
    },
    {
      "cell_type": "markdown",
      "source": [
        "LinearRegression() seems to work the best and no significant difference is visualized."
      ],
      "metadata": {
        "id": "wwZM35mXzlWC"
      }
    },
    {
      "cell_type": "code",
      "source": [
        "lincoef = multlin.coef_\n",
        "ridgecoef = ridge_cv.coef_\n",
        "\n",
        "lincoef - ridgecoef"
      ],
      "metadata": {
        "colab": {
          "base_uri": "https://localhost:8080/"
        },
        "id": "kw1OXpTnX4sB",
        "outputId": "13bc2db0-9e9c-4099-b6d9-52130fa3b2b4"
      },
      "execution_count": null,
      "outputs": [
        {
          "output_type": "execute_result",
          "data": {
            "text/plain": [
              "array([ 1.89213486e-05, -6.57338006e-06, -1.56628265e-04,  5.43814295e-05,\n",
              "       -1.34644462e-05, -2.38338120e-06, -2.87604818e-06,  1.66844037e-04,\n",
              "        9.55726438e-05,  9.35056290e-05, -4.19438112e-05, -1.63991720e-05,\n",
              "       -1.97418269e-04,  1.52815320e-05])"
            ]
          },
          "metadata": {},
          "execution_count": 196
        }
      ]
    },
    {
      "cell_type": "code",
      "source": [
        "\n",
        "\n",
        "scores = -cross_val_score(multlin, X_scaled, Y, scoring=\"neg_mean_squared_error\", cv=8)\n",
        "print(\"Multi Linear: \", sum(scores) / len(scores))\n",
        "#scores = -cross_val_score(huber, X_scaled, Y, scoring=\"neg_mean_squared_error\", cv=8)\n",
        "#print(\"Huber: \", sum(scores) / len(scores))\n",
        "\n",
        "#scores = -cross_val_score(lasso_cv, X_scaled, Y, scoring=\"neg_mean_squared_error\", cv=8)\n",
        "#print(\"Lasso: \", sum(scores) / len(scores))\n",
        "scores = -cross_val_score(ridge_cv, X_scaled, Y, scoring=\"neg_mean_squared_error\", cv=8)\n",
        "print(\"Ridge: \", sum(scores) / len(scores))"
      ],
      "metadata": {
        "id": "n_TETc4Br2yB",
        "colab": {
          "base_uri": "https://localhost:8080/"
        },
        "outputId": "d51130bc-de8b-47ca-ee01-744f5ad2f94e"
      },
      "execution_count": null,
      "outputs": [
        {
          "output_type": "stream",
          "name": "stdout",
          "text": [
            "Multi Linear:  0.0005576207431867875\n"
          ]
        },
        {
          "output_type": "stream",
          "name": "stderr",
          "text": [
            "/usr/local/lib/python3.11/dist-packages/sklearn/linear_model/_ridge.py:2385: FutureWarning: 'store_cv_values' is deprecated in version 1.5 and will be removed in 1.7. Use 'store_cv_results' instead.\n",
            "  warnings.warn(\n",
            "/usr/local/lib/python3.11/dist-packages/sklearn/linear_model/_ridge.py:2385: FutureWarning: 'store_cv_values' is deprecated in version 1.5 and will be removed in 1.7. Use 'store_cv_results' instead.\n",
            "  warnings.warn(\n",
            "/usr/local/lib/python3.11/dist-packages/sklearn/linear_model/_ridge.py:2385: FutureWarning: 'store_cv_values' is deprecated in version 1.5 and will be removed in 1.7. Use 'store_cv_results' instead.\n",
            "  warnings.warn(\n",
            "/usr/local/lib/python3.11/dist-packages/sklearn/linear_model/_ridge.py:2385: FutureWarning: 'store_cv_values' is deprecated in version 1.5 and will be removed in 1.7. Use 'store_cv_results' instead.\n",
            "  warnings.warn(\n",
            "/usr/local/lib/python3.11/dist-packages/sklearn/linear_model/_ridge.py:2385: FutureWarning: 'store_cv_values' is deprecated in version 1.5 and will be removed in 1.7. Use 'store_cv_results' instead.\n",
            "  warnings.warn(\n"
          ]
        },
        {
          "output_type": "stream",
          "name": "stdout",
          "text": [
            "Ridge:  0.0005576223665899394\n"
          ]
        },
        {
          "output_type": "stream",
          "name": "stderr",
          "text": [
            "/usr/local/lib/python3.11/dist-packages/sklearn/linear_model/_ridge.py:2385: FutureWarning: 'store_cv_values' is deprecated in version 1.5 and will be removed in 1.7. Use 'store_cv_results' instead.\n",
            "  warnings.warn(\n",
            "/usr/local/lib/python3.11/dist-packages/sklearn/linear_model/_ridge.py:2385: FutureWarning: 'store_cv_values' is deprecated in version 1.5 and will be removed in 1.7. Use 'store_cv_results' instead.\n",
            "  warnings.warn(\n",
            "/usr/local/lib/python3.11/dist-packages/sklearn/linear_model/_ridge.py:2385: FutureWarning: 'store_cv_values' is deprecated in version 1.5 and will be removed in 1.7. Use 'store_cv_results' instead.\n",
            "  warnings.warn(\n"
          ]
        }
      ]
    },
    {
      "cell_type": "markdown",
      "source": [
        "Plot it"
      ],
      "metadata": {
        "id": "7JM8eHTRfUFE"
      }
    },
    {
      "cell_type": "code",
      "source": [
        "# Get coefficients\n",
        "coefs = multlin.coef_\n",
        "\n",
        "# Create a DataFrame for plotting\n",
        "coef_df = pd.DataFrame({\n",
        "    'Stat': X.columns,\n",
        "    'Coefficient': coefs\n",
        "})\n",
        "\n",
        "# Sort by absolute value (only for ordering)\n",
        "coef_df['AbsCoefficient'] = np.abs(coef_df['Coefficient'])\n",
        "coef_df = coef_df.sort_values(by='AbsCoefficient', ascending=False)\n",
        "\n",
        "plt.figure(figsize=(10, 6))\n",
        "bars = plt.barh(coef_df['Stat'], coef_df['Coefficient'], color='skyblue')\n",
        "plt.axvline(x=0, color='gray', linestyle='--')\n",
        "plt.title('Relative Impact of Stats to Win Share Per Game')\n",
        "plt.xlabel('Coefficient Value')\n",
        "plt.gca().invert_yaxis()  # Largest at top\n",
        "plt.tight_layout()\n",
        "#plt.yticks(ticks=range(len(stats)), labels=['A', 'B', 'C', 'D', 'E'])\n",
        "plt.show()\n",
        "\n"
      ],
      "metadata": {
        "id": "fzyWOfmpfTrh",
        "colab": {
          "base_uri": "https://localhost:8080/",
          "height": 607
        },
        "outputId": "29457715-2613-4118-a651-b09b10751933"
      },
      "execution_count": null,
      "outputs": [
        {
          "output_type": "display_data",
          "data": {
            "text/plain": [
              "<Figure size 1000x600 with 1 Axes>"
            ],
            "image/png": "[encoded data removed]"
          },
          "metadata": {}
        }
      ]
    },
    {
      "cell_type": "markdown",
      "source": [
        "*Each statistics' influence on win share per game can be visualized. Note this is for all players in NBA, ABA, and WNBA*"
      ],
      "metadata": {
        "id": "orTaYI3czvxY"
      }
    },
    {
      "cell_type": "markdown",
      "source": [
        "**Let's look at it separated by league to gain insight into male and female leagues**"
      ],
      "metadata": {
        "id": "5yPDZK_EdmB8"
      }
    },
    {
      "cell_type": "code",
      "source": [
        "# assign nba and aba dataset\n",
        "male_data = data2[data2['sex'] == 'male']\n",
        "\n",
        "# assign wnba dataset\n",
        "female_data = data2[data2['sex'] == 'female']"
      ],
      "metadata": {
        "id": "ASeaQSBrdxAq"
      },
      "execution_count": null,
      "outputs": []
    },
    {
      "cell_type": "markdown",
      "source": [
        "*NBA and ABA*"
      ],
      "metadata": {
        "id": "RYpbqD6JeGT5"
      }
    },
    {
      "cell_type": "code",
      "source": [
        "# assign vars\n",
        "Xm = male_data[['steals_pg', 'blocks_pg', 'turnovers_pg', 'personal_fouls_pg', \\\n",
        "                         'field_goal_percent', '3point_field_goal_percent', 'free_throw_percent',\\\n",
        "                         'points_per_game','total_rebounds_per_game', 'assists_per_game','height_cm','weight_kg', 'minutes_played_per_game','years_played']]\n",
        "Ym = male_data['win_share_per_game']\n",
        "\n",
        "# standardize vars\n",
        "scaler = StandardScaler()\n",
        "Xm_scaled = scaler.fit_transform(Xm)\n",
        "\n",
        "# make model\n",
        "linM = lm.LinearRegression()\n",
        "\n",
        "# fit linear model to data\n",
        "linM.fit(Xm_scaled, Ym)\n",
        "\n",
        "# print the fitted model\n",
        "linM.coef_, linM.intercept_"
      ],
      "metadata": {
        "colab": {
          "base_uri": "https://localhost:8080/"
        },
        "id": "GSWQLrUneAqu",
        "outputId": "1c7385fb-8329-424e-ff5d-bcd03d54d343"
      },
      "execution_count": null,
      "outputs": [
        {
          "output_type": "execute_result",
          "data": {
            "text/plain": [
              "(array([ 0.00780842,  0.00214423, -0.02988522,  0.00193774,  0.02069932,\n",
              "         0.00178669,  0.00825231,  0.02199617,  0.01867274,  0.02036424,\n",
              "        -0.00062755,  0.00196175, -0.01840214,  0.01187304]),\n",
              " np.float64(0.08134895954381148))"
            ]
          },
          "metadata": {},
          "execution_count": 229
        }
      ]
    },
    {
      "cell_type": "code",
      "source": [
        "# Get coefficients\n",
        "coefsM = linM.coef_\n",
        "\n",
        "# Create a DataFrame for plotting\n",
        "coef_dfM = pd.DataFrame({\n",
        "    'Stat': Xm.columns,\n",
        "    'Coefficient': coefsM\n",
        "})\n",
        "\n",
        "# Sort by absolute value (only for ordering)\n",
        "coef_dfM['AbsCoefficient'] = np.abs(coef_dfM['Coefficient'])\n",
        "coef_dfM = coef_dfM.sort_values(by='AbsCoefficient', ascending=False)\n",
        "\n",
        "plt.figure(figsize=(10, 6))\n",
        "bars = plt.barh(coef_dfM['Stat'], coef_dfM['Coefficient'], color='skyblue')\n",
        "plt.axvline(x=0, color='gray', linestyle='--')\n",
        "plt.title('Relative Impact of Stats to Win Share Per Game')\n",
        "plt.xlabel('Coefficient Value')\n",
        "plt.gca().invert_yaxis()  # Largest at top\n",
        "plt.tight_layout()\n",
        "#plt.yticks(ticks=range(len(stats)), labels=['A', 'B', 'C', 'D', 'E'])\n",
        "plt.show()"
      ],
      "metadata": {
        "colab": {
          "base_uri": "https://localhost:8080/",
          "height": 607
        },
        "id": "YB2ibd27eqCC",
        "outputId": "5f0c945a-63e9-4ed4-a0f1-e380337bd231"
      },
      "execution_count": null,
      "outputs": [
        {
          "output_type": "display_data",
          "data": {
            "text/plain": [
              "<Figure size 1000x600 with 1 Axes>"
            ],
            "image/png": "[encoded data removed]"
          },
          "metadata": {}
        }
      ]
    },
    {
      "cell_type": "markdown",
      "source": [
        "*WNBA*"
      ],
      "metadata": {
        "id": "Vb_vZ3b5pr8b"
      }
    },
    {
      "cell_type": "code",
      "source": [
        "# assign vars\n",
        "Xf = female_data[['steals_pg', 'blocks_pg', 'turnovers_pg', 'personal_fouls_pg', \\\n",
        "                         'field_goal_percent', '3point_field_goal_percent', 'free_throw_percent',\\\n",
        "                         'points_per_game','total_rebounds_per_game', 'assists_per_game','height_cm','weight_kg', 'minutes_played_per_game','years_played']]\n",
        "Yf = female_data['win_share_per_game']\n",
        "\n",
        "# standardize vars\n",
        "scaler = StandardScaler()\n",
        "Xf_scaled = scaler.fit_transform(Xf)\n",
        "\n",
        "# make model\n",
        "linF = lm.LinearRegression()\n",
        "\n",
        "# fit linear model to data\n",
        "linF.fit(Xf_scaled, Yf)\n",
        "\n",
        "# print the fitted model\n",
        "linF.coef_, linF.intercept_"
      ],
      "metadata": {
        "colab": {
          "base_uri": "https://localhost:8080/"
        },
        "id": "DQ4peRMMpxI-",
        "outputId": "d6d6bd56-a09d-4f76-e715-68d4192538e5"
      },
      "execution_count": null,
      "outputs": [
        {
          "output_type": "execute_result",
          "data": {
            "text/plain": [
              "(array([ 0.02086737,  0.00638119, -0.02329474,  0.00131398,  0.02300674,\n",
              "         0.00429014,  0.00872147,  0.01994677,  0.00839173,  0.00756524,\n",
              "        -0.00039675,  0.00339297, -0.00305793,  0.00297432]),\n",
              " np.float64(0.0857690009261102))"
            ]
          },
          "metadata": {},
          "execution_count": 232
        }
      ]
    },
    {
      "cell_type": "code",
      "source": [
        "# Get coefficients\n",
        "coefsF = linF.coef_\n",
        "\n",
        "# Create a DataFrame for plotting\n",
        "coef_dfF = pd.DataFrame({\n",
        "    'Stat': Xf.columns,\n",
        "    'Coefficient': coefsF\n",
        "})\n",
        "\n",
        "y_pos = np.arange(len(Xf))\n",
        "offset = 0.2\n",
        "\n",
        "# Sort by absolute value (only for ordering)\n",
        "coef_dfF['AbsCoefficient'] = np.abs(coef_dfF['Coefficient'])\n",
        "coef_dfF = coef_dfF.sort_values(by='AbsCoefficient', ascending=False)\n",
        "\n",
        "plt.figure(figsize=(10, 6))\n",
        "barsF = plt.barh(coef_dfF['Stat'], coef_dfF['Coefficient'], color='lightcoral', alpha = 0.8)\n",
        "barsM = plt.barh(coef_dfM['Stat'], coef_dfM['Coefficient'], color='skyblue', alpha = 0.6)\n",
        "plt.axvline(x=0, color='gray', linestyle='--')\n",
        "plt.title('Relative Impact of Stats to Win Share Per Game')\n",
        "plt.xlabel('Coefficient Value')\n",
        "plt.gca().invert_yaxis()  # Largest at top\n",
        "plt.tight_layout()\n",
        "#plt.yticks(ticks=range(len(stats)), labels=['A', 'B', 'C', 'D', 'E'])\n",
        "plt.show()"
      ],
      "metadata": {
        "colab": {
          "base_uri": "https://localhost:8080/",
          "height": 607
        },
        "id": "P_X7A1W-pqwP",
        "outputId": "6ab426c9-06fe-42ea-b9f8-7c2fcd8d6924"
      },
      "execution_count": null,
      "outputs": [
        {
          "output_type": "display_data",
          "data": {
            "text/plain": [
              "<Figure size 1000x600 with 1 Axes>"
            ],
            "image/png": "[encoded data removed]"
          },
          "metadata": {}
        }
      ]
    },
    {
      "cell_type": "markdown",
      "source": [
        "*Combine both graphs together to view relative impact of variables in male vs. female leagues*\n",
        "\n",
        "The discrepancies visualized is attributed to the fact that games in the WNBA are slower and have fewer possessions per game. Stealing the ball and obtaining a possession for your team in an environment where possessions are rarer will be more valuable than if possessions were more common. The other differences can be explained by the differences in the flow of the game in the male vs. female leagues. Can we use this to draft players specifically to cater to these visualizations?"
      ],
      "metadata": {
        "id": "VofBvdqz0OyG"
      }
    }
  ]
}